{
 "cells": [
  {
   "cell_type": "code",
   "execution_count": 3,
   "metadata": {},
   "outputs": [
    {
     "name": "stdout",
     "output_type": "stream",
     "text": [
      "Requirement already satisfied: pandas==1.3.5 in /home/mila/github/apresentacao-sonda/venv/lib/python3.10/site-packages (from -r requirements.txt (line 1)) (1.3.5)\n",
      "Requirement already satisfied: pyarrow==9.0.0 in /home/mila/github/apresentacao-sonda/venv/lib/python3.10/site-packages (from -r requirements.txt (line 2)) (9.0.0)\n",
      "Requirement already satisfied: minio in /home/mila/github/apresentacao-sonda/venv/lib/python3.10/site-packages (from -r requirements.txt (line 3)) (7.1.17)\n",
      "Requirement already satisfied: trino in /home/mila/github/apresentacao-sonda/venv/lib/python3.10/site-packages (from -r requirements.txt (line 4)) (0.328.0)\n",
      "Requirement already satisfied: sqlparse in /home/mila/github/apresentacao-sonda/venv/lib/python3.10/site-packages (from -r requirements.txt (line 5)) (0.5.0)\n",
      "Requirement already satisfied: python-dateutil>=2.7.3 in /home/mila/github/apresentacao-sonda/venv/lib/python3.10/site-packages (from pandas==1.3.5->-r requirements.txt (line 1)) (2.8.2)\n",
      "Requirement already satisfied: pytz>=2017.3 in /home/mila/github/apresentacao-sonda/venv/lib/python3.10/site-packages (from pandas==1.3.5->-r requirements.txt (line 1)) (2023.3.post1)\n",
      "Requirement already satisfied: numpy>=1.21.0 in /home/mila/github/apresentacao-sonda/venv/lib/python3.10/site-packages (from pandas==1.3.5->-r requirements.txt (line 1)) (1.26.1)\n",
      "Requirement already satisfied: certifi in /home/mila/github/apresentacao-sonda/venv/lib/python3.10/site-packages (from minio->-r requirements.txt (line 3)) (2023.7.22)\n",
      "Requirement already satisfied: urllib3 in /home/mila/github/apresentacao-sonda/venv/lib/python3.10/site-packages (from minio->-r requirements.txt (line 3)) (2.0.7)\n",
      "Requirement already satisfied: requests>=2.31.0 in /home/mila/github/apresentacao-sonda/venv/lib/python3.10/site-packages (from trino->-r requirements.txt (line 4)) (2.31.0)\n",
      "Requirement already satisfied: tzlocal in /home/mila/github/apresentacao-sonda/venv/lib/python3.10/site-packages (from trino->-r requirements.txt (line 4)) (5.2)\n",
      "Requirement already satisfied: six>=1.5 in /home/mila/github/apresentacao-sonda/venv/lib/python3.10/site-packages (from python-dateutil>=2.7.3->pandas==1.3.5->-r requirements.txt (line 1)) (1.16.0)\n",
      "Requirement already satisfied: charset-normalizer<4,>=2 in /home/mila/github/apresentacao-sonda/venv/lib/python3.10/site-packages (from requests>=2.31.0->trino->-r requirements.txt (line 4)) (3.3.2)\n",
      "Requirement already satisfied: idna<4,>=2.5 in /home/mila/github/apresentacao-sonda/venv/lib/python3.10/site-packages (from requests>=2.31.0->trino->-r requirements.txt (line 4)) (3.7)\n"
     ]
    }
   ],
   "source": [
    "## Instalando dependencias \n",
    "! pip install --no-cache-dir -r requirements.txt"
   ]
  },
  {
   "cell_type": "code",
   "execution_count": 1,
   "metadata": {},
   "outputs": [],
   "source": [
    "## Importando os class\n",
    "from functions.trino_provider import TrinoProvider\n",
    "from functions.s3_functions import s3Function\n",
    "from functions.format_data import FormatData\n",
    "import pandas as pd\n",
    "import csv"
   ]
  },
  {
   "cell_type": "code",
   "execution_count": 2,
   "metadata": {},
   "outputs": [],
   "source": [
    "## Inicializando \n",
    "trinoProvider = TrinoProvider()\n",
    "s3 = s3Function()\n",
    "fmt = FormatData()"
   ]
  },
  {
   "cell_type": "code",
   "execution_count": 3,
   "metadata": {},
   "outputs": [],
   "source": [
    "## Declarando variaveis\n",
    "BUCKET_NAME='apresentacao'\n",
    "CATALOG='minio'\n",
    "SCHEMA='dev'"
   ]
  },
  {
   "cell_type": "code",
   "execution_count": 4,
   "metadata": {},
   "outputs": [
    {
     "data": {
      "text/plain": [
       "['apresentacao']"
      ]
     },
     "execution_count": 4,
     "metadata": {},
     "output_type": "execute_result"
    }
   ],
   "source": [
    "# MINIO\n",
    "\n",
    "## Lista  de buckets\n",
    "s3.get_buckets()"
   ]
  },
  {
   "cell_type": "code",
   "execution_count": 41,
   "metadata": {},
   "outputs": [
    {
     "name": "stdout",
     "output_type": "stream",
     "text": [
      "Creating new bucket: apresentacao2\n"
     ]
    },
    {
     "data": {
      "text/plain": [
       "'Bucket: apresentacao2 created!'"
      ]
     },
     "execution_count": 41,
     "metadata": {},
     "output_type": "execute_result"
    }
   ],
   "source": [
    "## Criando um bucket\n",
    "s3.create_bucket(BUCKET_NAME)"
   ]
  },
  {
   "cell_type": "code",
   "execution_count": 5,
   "metadata": {},
   "outputs": [
    {
     "name": "stdout",
     "output_type": "stream",
     "text": [
      "{'data': b'row_id,order_id,created_at,item_id,quantity,cust_name,in_or_out\\n1,ORD001,2024-02-12 07:04:19,It008,1,Alex,out\\n2,ORD002,2024-02-12 07:09:38,It014,1,Jordan,in\\n3,ORD003,2024-02-12 07:14:29,It008,1,Taylor,out\\n4,ORD004,2024-02-12 07:18:39,It019,1,Casey,out\\n5,ORD005,2024-02-12 07:23:44,It024,1,Jamie,out\\n6,ORD006,2024-02-12 07:28:20,It001,1,Morgan,in\\n7,ORD006,2024-02-12 07:28:20,It016,1,Morgan,in\\n8,ORD007,2024-02-12 07:33:58,It005,1,Riley,out\\n9,ORD007,2024-02-12 07:33:58,It020,1,Riley,\\n10,ORD008,2024-02-12 07:39:02,It006,1,Cameron,in\\n11,ORD008,2024-02-12 07:39:01,It018,1,Cameron,\\n12,ORD009,2024-02-12 07:44:02,It023,1,Quinn,out\\n13,ORD009,2024-02-12 07:44:03,It011,1,Quinn,\\n14,ORD010,2024-02-12 07:49:04,It024,1,Peyton,out\\n15,ORD010,2024-02-12 07:49:05,It014,1,Peyton,\\n16,ORD011,2024-02-12 07:53:06,It003,1,Brooke,out\\n17,ORD012,2024-02-12 07:58:07,It007,1,Blake,out\\n18,ORD013,2024-02-12 08:03:08,It009,1,Charlie,in\\n19,ORD013,2024-02-12 08:03:09,It021,1,Charlie,\\n20,ORD014,2024-02-12 08:08:10,It012,1,Dakota,in\\n21,ORD014,2024-02-12 08:08:11,It022,1,Dakota,\\n22,ORD015,2024-02-12 08:12:12,It004,1,Emerson,out\\n23,ORD016,2024-02-12 08:17:21,It002,1,Finley,out\\n24,ORD017,2024-02-12 08:22:34,It001,1,Harper,in\\n25,ORD018,2024-02-12 08:26:07,It014,1,Jordan,out\\n26,ORD019,2024-02-12 08:31:45,It011,1,Kendall,in\\n27,ORD020,2024-02-12 08:36:59,It017,1,Logan,out\\n28,ORD020,2024-02-12 08:36:59,It020,1,Logan,\\n29,ORD021,2024-02-12 08:41:38,It005,1,Morgan,out\\n30,ORD022,2024-02-12 08:45:02,It006,1,Parker,in\\n31,ORD022,2024-02-12 08:45:24,It014,1,Peyton,\\n32,ORD023,2024-02-12 08:50:11,It008,1,Alex,out\\n33,ORD024,2024-02-12 08:55:53,It016,1,Jordan,out\\n34,ORD025,2024-02-12 09:00:46,It006,1,Taylor,out\\n35,ORD026,2024-02-12 09:04:25,It019,1,Casey,in\\n36,ORD027,2024-02-12 09:09:47,It009,1,Jamie,out\\n37,ORD028,2024-02-12 09:14:32,It001,1,Morgan,in\\n38,ORD028,2024-02-12 09:14:32,It016,1,Morgan,\\n39,ORD029,2024-02-12 09:19:11,It005,1,Riley,in\\n40,ORD029,2024-02-12 09:19:11,It020,1,Riley,\\n41,ORD029,2024-02-12 09:19:11,It012,1,Riley,\\n42,ORD030,2024-02-12 09:35:06,It004,1,Jordan,out\\n43,ORD031,2024-02-12 09:48:39,It021,1,Harper,out\\n44,ORD032,2024-02-12 10:02:18,It007,1,Casey,out\\n45,ORD033,2024-02-12 10:17:45,It0010,1,Riley,out\\n46,ORD034,2024-02-12 10:33:22,It017,1,Alex,in\\n47,ORD035,2024-02-12 10:50:09,It009,1,Jamie,out\\n48,ORD036,2024-02-12 11:08:56,It018,1,Taylor,out\\n49,ORD037,2024-02-12 11:27:34,It005,1,Quinn,in\\n50,ORD037,2024-02-12 11:27:34,It002,1,Quinn,\\n51,ORD038,2024-02-12 12:08:22,It015,1,Peyton,in\\n52,ORD038,2024-02-12 12:08:22,It003,1,Peyton,\\n53,ORD038,2024-02-12 12:08:22,It016,1,Peyton,\\n54,ORD039,2024-02-12 12:10:12,It005,1,Riley,out\\n55,ORD039,2024-02-12 12:10:12,It020,1,Riley,\\n56,ORD040,2024-02-12 12:11:03,It006,1,Cameron,out\\n57,ORD040,2024-02-12 12:11:03,It018,1,Cameron,\\n58,ORD041,2024-02-12 12:16:09,It023,1,Quinn,in\\n59,ORD041,2024-02-12 12:16:09,It011,1,Quinn,\\n60,ORD041,2024-02-12 12:16:09,It011,1,Quinn,\\n61,ORD042,2024-02-12 12:18:14,It004,1,Taylor,out\\n62,ORD043,2024-02-12 12:21:27,It022,1,Jamie,out\\n63,ORD044,2024-02-12 12:23:39,It018,1,Riley,out\\n64,ORD045,2024-02-12 12:26:05,It017,1,Alex,in\\n65,ORD046,2024-02-12 12:29:17,It009,1,Casey,out\\n66,ORD047,2024-02-12 12:32:29,It009,1,Brooke,out\\n67,ORD048,2024-02-12 12:35:33,It012,1,Jordan,out\\n68,ORD049,2024-02-12 12:38:46,It005,1,Peyton,in\\n69,ORD050,2024-02-12 12:41:58,It019,1,Morgan,out\\n70,ORD051,2024-02-12 12:44:11,It020,1,Harper,in\\n71,ORD052,2024-02-12 12:47:24,It021,1,Cameron,out\\n72,ORD053,2024-02-12 12:50:37,It014,1,Avery,in\\n73,ORD054,2024-02-12 12:53:49,It016,1,Quinn,out\\n74,ORD055,2024-02-12 12:56:15,It023,1,Taylor,out\\n75,ORD056,2024-02-12 12:59:28,It020,1,Jamie,out\\n76,ORD057,2024-02-12 13:02:42,It013,1,Riley,in\\n77,ORD058,2024-02-12 13:05:54,It001,1,Alex,out\\n78,ORD059,2024-02-12 13:08:06,It003,1,Casey,in\\n79,ORD060,2024-02-12 13:11:19,It008,1,Brooke,out\\n80,ORD061,2024-02-12 13:13:31,It002,1,Harper,in\\n81,ORD061,2024-02-12 13:13:43,It007,1,Harper,\\n82,ORD062,2024-02-12 13:15:56,It019,1,Jordan,out\\n83,ORD063,2024-02-12 13:17:08,It021,1,Avery,out\\n84,ORD063,2024-02-12 13:17:08,It005,1,Avery,\\n85,ORD063,2024-02-12 13:17:08,It014,1,Avery,\\n86,ORD064,2024-02-12 13:20:47,It004,1,Casey,in\\n87,ORD064,2024-02-12 13:20:47,It003,1,Casey,\\n88,ORD065,2024-02-12 13:22:12,It012,1,Taylor,out\\n89,ORD065,2024-02-12 13:22:12,It009,1,Taylor,\\n90,ORD066,2024-02-12 13:25:38,It018,1,Riley,out\\n91,ORD066,2024-02-12 13:25:02,It022,1,Riley,\\n92,ORD067,2024-02-12 13:27:14,It011,1,Jamie,out\\n93,ORD067,2024-02-12 13:27:14,It015,1,Jamie,\\n94,ORD068,2024-02-12 13:30:38,It006,1,Morgan,out\\n95,ORD068,2024-02-12 13:30:38,It022,1,Morgan,\\n96,ORD069,2024-02-12 13:32:57,It010,1,Quinn,out\\n97,ORD069,2024-02-12 13:32:57,It024,1,Quinn,\\n98,ORD070,2024-02-12 13:35:21,It001,1,Peyton,in\\n99,ORD070,2024-02-12 13:35:21,It017,1,Peyton,\\n100,ORD078,2024-02-12 13:55:45,It020,1,Alex,out\\n101,ORD079,2024-02-12 14:05:16,It021,1,Harper,in\\n102,ORD080,2024-02-12 14:17:28,It004,1,Taylor,out\\n103,ORD080,2024-02-12 14:17:28,It013,1,Taylor,\\n104,ORD081,2024-02-12 14:30:51,It018,1,Jordan,in\\n105,ORD082,2024-02-12 14:45:04,It007,1,Casey,in\\n106,ORD082,2024-02-12 14:45:04,It011,1,Casey,\\n107,ORD083,2024-02-12 15:00:29,It013,1,Riley,out\\n108,ORD084,2024-02-12 15:20:42,It009,1,Jamie,in\\n109,ORD084,2024-02-12 15:20:42,It003,1,Jamie,\\n110,ORD085,2024-02-12 15:40:08,It014,1,Morgan,out\\n111,ORD085,2024-02-12 15:40:12,It022,1,Morgan,\\n112,ORD086,2024-02-12 16:00:23,It005,1,Brooke,out\\n113,ORD087,2024-02-12 16:25:34,It017,1,Avery,out\\n114,ORD088,2024-02-12 16:50:45,It012,1,Quinn,out\\n115,ORD089,2024-02-12 17:00:45,It001,1,Sam,out\\n116,ORD090,2024-02-13 07:14:00,It002,1,Anna,out\\n117,ORD091,2024-02-13 07:19:00,It004,1,Chris,in\\n118,ORD091,2024-02-13 07:19:00,It028,1,Chris, \\n119,ORD092,2024-02-13 07:24:00,It017,1,Pat,out\\n120,ORD093,2024-02-13 07:30:00,It023,1,Alex,in\\n121,ORD093,2024-02-13 07:30:00,It011,1,Alex, \\n122,ORD094,2024-02-13 07:35:00,It006,1,Jordan,out\\n123,ORD095,2024-02-13 07:40:00,It021,1,Taylor,in\\n124,ORD096,2024-02-13 07:45:00,It015,1,Casey,out\\n125,ORD097,2024-02-13 07:50:00,It008,1,Jamie,in\\n126,ORD097,2024-02-13 07:50:00,It024,1,Jamie, \\n127,ORD098,2024-02-13 07:56:00,It001,1,Morgan,out\\n128,ORD099,2024-02-13 08:01:00,It019,1,Riley,in\\n129,ORD100,2024-02-13 08:06:00,It003,1,Cameron,out\\n130,ORD100,2024-02-13 08:06:00,It027,1,Cameron, \\n131,ORD101,2024-02-13 08:11:00,It022,1,Quinn,in\\n132,ORD102,2024-02-13 08:17:00,It018,1,Peyton,out\\n133,ORD103,2024-02-13 08:22:00,It005,1,Brooke,in\\n134,ORD103,2024-02-13 08:22:00,It012,1,Brooke, \\n135,ORD104,2024-02-13 08:27:00,It010,1,Sam,out\\n136,ORD105,2024-02-13 08:32:00,It007,1,Alex,in\\n137,ORD106,2024-02-13 08:38:00,It026,1,Pat,out\\n138,ORD106,2024-02-13 08:38:00,It020,1,Pat, \\n139,ORD107,2024-02-13 08:43:00,It014,1,Chris,in\\n140,ORD108,2024-02-13 08:48:00,It009,1,Jordan,out\\n141,ORD109,2024-02-13 08:53:00,It002,1,Taylor,in\\n142,ORD109,2024-02-13 08:53:00,It016,1,Taylor, \\n143,ORD110,2024-02-13 08:58:00,It013,1,Casey,out\\n144,ORD111,2024-02-13 09:04:00,It025,1,Jamie,in\\n145,ORD112,2024-02-13 09:09:00,It004,1,Morgan,out\\n146,ORD113,2024-02-13 09:14:00,It021,1,Riley,in\\n147,ORD114,2024-02-13 09:19:00,It006,1,Cameron,out\\n148,ORD115,2024-02-13 09:25:00,It019,1,Quinn,in\\n149,ORD116,2024-02-13 09:30:00,It003,1,Peyton,out\\n150,ORD117,2024-02-13 09:35:00,It022,1,Brooke,in\\n151,ORD117,2024-02-13 09:35:00,It012,1,Brooke, \\n152,ORD118,2024-02-13 09:40:00,It018,1,Sam,out\\n153,ORD119,2024-02-13 09:46:00,It005,1,Alex,in\\n154,ORD120,2024-02-13 09:51:00,It026,1,Pat,out\\n155,ORD121,2024-02-13 09:56:00,It014,1,Chris,in\\n156,ORD122,2024-02-13 10:01:00,It009,1,Jordan,out\\n157,ORD123,2024-02-13 10:16:00,It027,1,Morgan,in\\n158,ORD124,2024-02-13 10:31:00,It005,1,Casey,out\\n159,ORD125,2024-02-13 10:45:00,It014,1,Riley,in\\n160,ORD125,2024-02-13 10:45:00,It023,1,Riley, \\n161,ORD126,2024-02-13 11:00:00,It018,1,Jamie,out\\n162,ORD127,2024-02-13 11:15:00,It002,1,Alex,in\\n163,ORD128,2024-02-13 11:29:00,It011,1,Sam,out\\n164,ORD129,2024-02-13 11:43:00,It026,1,Quinn,in\\n165,ORD129,2024-02-13 11:43:00,It020,1,Quinn, \\n166,ORD130,2024-02-13 11:57:00,It008,1,Pat,out\\n167,ORD131,2024-02-13 12:03:00,It022,1,Chris,in\\n168,ORD132,2024-02-13 12:10:00,It004,1,Alex,out\\n169,ORD133,2024-02-13 12:17:00,It015,1,Jordan,in\\n170,ORD134,2024-02-13 12:24:00,It026,1,Morgan,out\\n171,ORD134,2024-02-13 12:24:00,It018,1,Morgan, \\n172,ORD135,2024-02-13 12:31:00,It007,1,Taylor,in\\n173,ORD136,2024-02-13 12:38:00,It020,1,Casey,out\\n174,ORD137,2024-02-13 12:45:00,It003,1,Jamie,in\\n175,ORD138,2024-02-13 12:52:00,It016,1,Riley,out\\n176,ORD139,2024-02-13 12:59:00,It009,1,Cameron,in\\n177,ORD139,2024-02-13 12:59:00,It025,1,Cameron, \\n178,ORD140,2024-02-13 13:06:00,It012,1,Quinn,out\\n179,ORD141,2024-02-13 13:13:00,It001,1,Peyton,in\\n180,ORD142,2024-02-13 13:20:00,It019,1,Brooke,out\\n181,ORD143,2024-02-13 13:27:00,It005,1,Sam,in\\n182,ORD143,2024-02-13 13:27:00,It011,1,Sam, \\n183,ORD144,2024-02-13 13:34:00,It028,1,Pat,out\\n184,ORD145,2024-02-13 13:41:00,It010,1,Alex,in\\n185,ORD146,2024-02-13 13:48:00,It024,1,Chris,out\\n186,ORD147,2024-02-13 13:55:00,It017,1,Jordan,in\\n187,ORD147,2024-02-13 13:55:00,It021,1,Jordan, \\n188,ORD148,2024-02-13 14:03:00,It006,1,Morgan,out\\n189,ORD149,2024-02-13 14:10:00,It023,1,Taylor,in\\n190,ORD150,2024-02-13 14:30:00,It002,1,Jordan,out\\n191,ORD151,2024-02-13 14:50:00,It018,1,Chris,in\\n192,ORD152,2024-02-13 15:10:00,It005,1,Alex,out\\n193,ORD153,2024-02-13 15:30:00,It027,1,Morgan,in\\n194,ORD154,2024-02-13 15:50:00,It011,1,Taylor,out\\n195,ORD155,2024-02-13 16:09:00,It004,1,Casey,in\\n196,ORD155,2024-02-13 16:09:00,It028,1,Casey, \\n197,ORD156,2024-02-13 16:29:00,It014,1,Jamie,out\\n198,ORD157,2024-02-13 16:49:00,It021,1,Riley,in\\n199,ORD158,2024-02-13 17:00:00,It007,1,Cameron,out\\n200,ORD159,2024-02-14 07:06:00,It001,1,Elvis,out\\n201,ORD160,2024-02-14 07:13:00,It014,1,Jordan,in\\n202,ORD161,2024-02-14 07:20:00,It026,1,Chris,out\\n203,ORD162,2024-02-14 07:27:00,It008,1,Alex,in\\n204,ORD162,2024-02-14 07:27:00,It022,1,Alex, \\n205,ORD163,2024-02-14 07:34:00,It017,1,Morgan,out\\n206,ORD164,2024-02-14 07:41:00,It005,1,Taylor,in\\n207,ORD165,2024-02-14 07:49:00,It023,1,Casey,out\\n208,ORD166,2024-02-14 07:56:00,It011,1,Jamie,in\\n209,ORD167,2024-02-14 08:03:00,It019,1,Riley,out\\n210,ORD168,2024-02-14 08:10:00,It003,1,Cameron,in\\n211,ORD169,2024-02-14 08:17:00,It027,1,Quinn,out\\n212,ORD170,2024-02-14 08:24:00,It006,1,Peyton,in\\n213,ORD171,2024-02-14 08:31:00,It020,1,Brooke,out\\n214,ORD172,2024-02-14 08:38:00,It010,1,Sam,in\\n215,ORD173,2024-02-14 08:45:00,It025,1,Pat,out\\n216,ORD173,2024-02-14 08:45:00,It007,1,Pat, \\n217,ORD174,2024-02-14 08:53:00,It013,1,Alex,in\\n218,ORD175,2024-02-14 09:00:00,It028,1,Jordan,out\\n219,ORD176,2024-02-14 09:07:00,It004,1,Chris,in\\n220,ORD177,2024-02-14 09:14:00,It016,1,Morgan,out\\n221,ORD178,2024-02-14 09:21:00,It024,1,Taylor,in\\n222,ORD179,2024-02-14 09:28:00,It012,1,Casey,out\\n223,ORD180,2024-02-14 09:35:00,It009,1,Jamie,in\\n224,ORD181,2024-02-14 09:42:00,It002,1,Riley,out\\n225,ORD182,2024-02-14 09:49:00,It018,1,Cameron,in\\n226,ORD183,2024-02-14 09:57:00,It021,1,Quinn,out\\n227,ORD184,2024-02-14 10:04:00,It015,1,Brooke,in\\n228,ORD185,2024-02-14 10:21:00,It007,1,Sam,out\\n229,ORD186,2024-02-14 10:38:00,It028,1,Pat,in\\n230,ORD187,2024-02-14 10:55:00,It001,1,Alex,out\\n231,ORD188,2024-02-14 11:12:00,It024,1,Jordan,in\\n232,ORD189,2024-02-14 11:29:00,It018,1,Chris,out\\n233,ORD189,2024-02-14 11:29:00,It022,1,Chris, \\n234,ORD190,2024-02-14 11:46:00,It012,1,Morgan,in\\n235,ORD191,2024-02-14 12:03:00,It003,1,Taylor,out\\n236,ORD192,2024-02-14 12:10:00,It016,1,Casey,in\\n237,ORD193,2024-02-14 12:17:00,It009,1,Jamie,out\\n238,ORD194,2024-02-14 12:24:00,It027,1,Riley,in\\n239,ORD195,2024-02-14 12:31:00,It005,1,Cameron,out\\n240,ORD195,2024-02-14 12:31:00,It011,1,Cameron, \\n241,ORD196,2024-02-14 12:38:00,It014,1,Quinn,in\\n242,ORD197,2024-02-14 12:45:00,It020,1,Peyton,out\\n243,ORD198,2024-02-14 12:52:00,It006,1,Brooke,in\\n244,ORD199,2024-02-14 13:00:00,It022,1,Sam,out\\n245,ORD200,2024-02-14 13:08:00,It017,1,Pat,in\\n246,ORD201,2024-02-14 13:15:00,It010,1,Alex,out\\n247,ORD202,2024-02-14 13:22:00,It024,1,Jordan,in\\n248,ORD202,2024-02-14 13:22:00,It008,1,Jordan, \\n249,ORD203,2024-02-14 13:29:00,It001,1,Chris,out\\n250,ORD204,2024-02-14 13:36:00,It019,1,Morgan,in\\n251,ORD205,2024-02-14 13:43:00,It013,1,Taylor,out\\n252,ORD206,2024-02-14 13:50:00,It026,1,Casey,in\\n253,ORD207,2024-02-14 13:57:00,It004,1,Jamie,out\\n254,ORD208,2024-02-14 14:05:00,It021,1,Riley,in\\n255,ORD208,2024-02-14 14:05:00,It002,1,Riley, \\n256,ORD209,2024-02-14 14:12:00,It018,1,Cameron,out\\n257,ORD210,2024-02-14 14:19:00,It025,1,Quinn,in\\n258,ORD211,2024-02-14 14:26:00,It007,1,Peyton,out\\n259,ORD212,2024-02-14 14:33:00,It012,1,Brooke,in\\n260,ORD213,2024-02-14 14:40:00,It028,1,Sam,out\\n261,ORD214,2024-02-14 14:47:00,It015,1,Pat,in\\n262,ORD215,2024-02-14 15:04:00,It002,1,Alex,out\\n263,ORD216,2024-02-14 15:22:00,It024,1,Jordan,in\\n264,ORD217,2024-02-14 15:41:00,It018,1,Chris,out\\n265,ORD218,2024-02-14 15:59:00,It011,1,Morgan,in\\n266,ORD219,2024-02-14 16:17:00,It005,1,Taylor,out\\n267,ORD220,2024-02-14 16:35:00,It017,1,Casey,in\\n268,ORD221,2024-02-14 16:53:00,It009,1,Jamie,out\\n269,ORD222,2024-02-14 17:00:00,It026,1,Riley,in\\n270,ORD223,2024-02-15 07:02:00,It003,1,Anna,out\\n271,ORD224,2024-02-15 07:09:00,It017,1,Bob,in\\n272,ORD224,2024-02-15 07:09:00,It021,1,Bob, \\n273,ORD225,2024-02-15 07:16:00,It006,1,Carol,out\\n274,ORD226,2024-02-15 07:23:00,It028,1,Dave,in\\n275,ORD227,2024-02-15 07:30:00,It011,1,Eve,out\\n276,ORD227,2024-02-15 07:30:00,It014,1,Eve, \\n277,ORD228,2024-02-15 07:37:00,It001,1,Frank,in\\n278,ORD229,2024-02-15 07:44:00,It019,1,Grace,out\\n279,ORD230,2024-02-15 07:52:00,It024,1,Helen,in\\n280,ORD231,2024-02-15 07:59:00,It005,1,Ian,out\\n281,ORD231,2024-02-15 07:59:00,It008,1,Ian, \\n282,ORD232,2024-02-15 08:06:00,It010,1,Jenny,in\\n283,ORD233,2024-02-15 08:13:00,It013,1,Kyle,out\\n284,ORD234,2024-02-15 08:20:00,It016,1,Laura,in\\n285,ORD234,2024-02-15 08:20:00,It022,1,Laura, \\n286,ORD235,2024-02-15 08:27:00,It025,1,Mike,out\\n287,ORD236,2024-02-15 08:34:00,It007,1,Nina,in\\n288,ORD237,2024-02-15 08:41:00,It018,1,Oscar,out\\n289,ORD238,2024-02-15 08:48:00,It004,1,Paula,in\\n290,ORD238,2024-02-15 08:48:00,It027,1,Paula, \\n291,ORD239,2024-02-15 08:56:00,It009,1,Quinn,out\\n292,ORD240,2024-02-15 09:03:00,It002,1,Rachel,in\\n293,ORD241,2024-02-15 09:10:00,It020,1,Steve,out\\n294,ORD242,2024-02-15 09:17:00,It012,1,Tina,in\\n295,ORD243,2024-02-15 09:24:00,It015,1,Umar,out\\n296,ORD243,2024-02-15 09:24:00,It026,1,Umar, \\n297,ORD244,2024-02-15 09:31:00,It023,1,Victor,in\\n298,ORD245,2024-02-15 09:38:00,It008,1,Wendy,out\\n299,ORD246,2024-02-15 09:48:00,It012,1,Alice,in\\n300,ORD247,2024-02-15 10:04:00,It021,1,Bob,out\\n301,ORD248,2024-02-15 10:20:00,It004,1,Charlie,in\\n302,ORD249,2024-02-15 10:36:00,It027,1,Dana,out\\n303,ORD250,2024-02-15 10:52:00,It009,1,Evan,in\\n304,ORD251,2024-02-15 11:08:00,It018,1,Fiona,out\\n305,ORD251,2024-02-15 11:08:00,It022,1,Fiona, \\n306,ORD252,2024-02-15 11:24:00,It006,1,George,in\\n307,ORD253,2024-02-15 11:40:00,It016,1,Hannah,out\\n308,ORD254,2024-02-15 11:56:00,It001,1,Ian,in\\n309,ORD255,2024-02-15 12:06:00,It007,1,Jake,out\\n310,ORD256,2024-02-15 12:12:00,It019,1,Karen,in\\n311,ORD256,2024-02-15 12:12:00,It023,1,Karen, \\n312,ORD257,2024-02-15 12:18:00,It002,1,Leo,out\\n313,ORD258,2024-02-15 12:24:00,It015,1,Mia,in\\n314,ORD259,2024-02-15 12:30:00,It010,1,Noah,out\\n315,ORD260,2024-02-15 12:36:00,It026,1,Olivia,in\\n316,ORD261,2024-02-15 12:42:00,It005,1,Paul,out\\n317,ORD262,2024-02-15 12:48:00,It013,1,Quinn,in\\n318,ORD263,2024-02-15 12:54:00,It020,1,Riley,out\\n319,ORD263,2024-02-15 12:54:00,It008,1,Riley, \\n320,ORD264,2024-02-15 13:00:00,It024,1,Sam,in\\n321,ORD265,2024-02-15 13:06:00,It011,1,Tina,out\\n322,ORD266,2024-02-15 13:12:00,It017,1,Umar,in\\n323,ORD267,2024-02-15 13:18:00,It003,1,Victor,out\\n324,ORD268,2024-02-15 13:24:00,It014,1,Wendy,in\\n325,ORD269,2024-02-15 13:30:00,It001,1,Xavier,out\\n326,ORD270,2024-02-15 13:36:00,It009,1,Yara,in\\n327,ORD271,2024-02-15 13:42:00,It018,1,Zoe,out\\n328,ORD272,2024-02-15 13:48:00,It004,1,Amy,in\\n329,ORD272,2024-02-15 13:48:00,It028,1,Amy, \\n330,ORD273,2024-02-15 13:54:00,It021,1,Brad,out\\n331,ORD274,2024-02-15 14:00:00,It006,1,Cindy,in\\n332,ORD275,2024-02-15 14:06:00,It022,1,Derek,out\\n333,ORD276,2024-02-15 14:12:00,It012,1,Eliza,in\\n334,ORD277,2024-02-15 14:18:00,It027,1,Frank,out\\n335,ORD278,2024-02-15 14:24:00,It016,1,Gigi,in\\n336,ORD279,2024-02-15 14:30:00,It025,1,Hugo,out\\n337,ORD280,2024-02-15 14:36:00,It008,1,Ivy,in\\n338,ORD281,2024-02-15 14:52:00,It002,1,Jake,out\\n339,ORD282,2024-02-15 15:08:00,It017,1,Kara,in\\n340,ORD283,2024-02-15 15:24:00,It011,1,Liam,out\\n341,ORD284,2024-02-15 15:40:00,It024,1,Mia,in\\n342,ORD285,2024-02-15 15:56:00,It005,1,Noel,out\\n343,ORD286,2024-02-15 16:12:00,It020,1,Ophelia,in\\n344,ORD287,2024-02-15 16:28:00,It014,1,Pablo,out\\n345,ORD288,2024-02-15 16:44:00,It027,1,Quinn,in\\n346,ORD289,2024-02-15 17:00:00,It009,1,Rita,out\\n347,ORD290,2024-02-16 07:08:00,It005,1,Sarah,out\\n348,ORD291,2024-02-16 07:15:00,It012,1,Mike,in\\n349,ORD292,2024-02-16 07:22:00,It018,1,Lucy, \\n350,ORD292,2024-02-16 07:22:00,It022,1,Lucy,out\\n351,ORD293,2024-02-16 07:29:00,It004,1,Tony,in\\n352,ORD294,2024-02-16 07:36:00,It027,1,Fiona,out\\n353,ORD295,2024-02-16 07:43:00,It011,1,Greg,in\\n354,ORD296,2024-02-16 07:51:00,It015,1,Hannah,out\\n355,ORD297,2024-02-16 07:58:00,It001,1,Ivan,in\\n356,ORD297,2024-02-16 07:58:00,It006,1,Ivan, \\n357,ORD298,2024-02-16 08:05:00,It019,1,Julia,out\\n358,ORD299,2024-02-16 08:12:00,It023,1,Karl,in\\n359,ORD300,2024-02-16 08:19:00,It009,1,Leah,out\\n360,ORD301,2024-02-16 08:26:00,It003,1,Max,in\\n361,ORD301,2024-02-16 08:26:00,It020,1,Max, \\n362,ORD302,2024-02-16 08:33:00,It007,1,Nora,out\\n363,ORD303,2024-02-16 08:40:00,It013,1,Oscar,in\\n364,ORD304,2024-02-16 08:48:00,It026,1,Paula,out\\n365,ORD305,2024-02-16 08:55:00,It010,1,Quinn,in\\n366,ORD306,2024-02-16 09:02:00,It008,1,Rita,out\\n367,ORD307,2024-02-16 09:09:00,It002,1,Steve,in\\n368,ORD307,2024-02-16 09:09:00,It014,1,Steve, \\n369,ORD308,2024-02-16 09:16:00,It017,1,Tina,out\\n370,ORD309,2024-02-16 09:23:00,It024,1,Uma,in\\n371,ORD310,2024-02-16 09:30:00,It021,1,Victor,out\\n372,ORD311,2024-02-16 09:38:00,It016,1,Wendy,in\\n373,ORD312,2024-02-16 09:45:00,It028,1,Xander,out\\n374,ORD313,2024-02-16 09:52:00,It025,1,Yara,in\\n375,ORD314,2024-02-16 09:59:00,It001,1,Zack,out\\n376,ORD315,2024-02-16 10:05:00,It003,1,Alice,in\\n377,ORD316,2024-02-16 10:21:00,It020,1,Ben,out\\n378,ORD317,2024-02-16 10:38:00,It008,1,Carla,in\\n379,ORD318,2024-02-16 10:54:00,It017,1,David,out\\n380,ORD318,2024-02-16 10:54:00,It025,1,David, \\n381,ORD319,2024-02-16 11:10:00,It012,1,Elena,in\\n382,ORD320,2024-02-16 11:26:00,It006,1,Frank,out\\n383,ORD321,2024-02-16 11:43:00,It024,1,Gina,in\\n384,ORD322,2024-02-16 11:59:00,It011,1,Harry,out\\n385,ORD323,2024-02-16 12:06:00,It022,1,Iris,in\\n386,ORD324,2024-02-16 12:12:00,It005,1,Jack,out\\n387,ORD325,2024-02-16 12:19:00,It009,1,Kiera,in\\n388,ORD325,2024-02-16 12:19:00,It013,1,Kiera, \\n389,ORD326,2024-02-16 12:25:00,It018,1,Luke,out\\n390,ORD327,2024-02-16 12:32:00,It001,1,Mia,in\\n391,ORD328,2024-02-16 12:38:00,It026,1,Nia,out\\n392,ORD329,2024-02-16 12:45:00,It004,1,Oscar,in\\n393,ORD330,2024-02-16 12:51:00,It010,1,Priya,out\\n394,ORD331,2024-02-16 12:58:00,It017,1,Quinn,in\\n395,ORD331,2024-02-16 12:58:00,It023,1,Quinn, \\n396,ORD332,2024-02-16 13:04:00,It006,1,Ravi,out\\n397,ORD333,2024-02-16 13:11:00,It014,1,Sarah,in\\n398,ORD334,2024-02-16 13:17:00,It027,1,Tim,out\\n399,ORD335,2024-02-16 13:24:00,It008,1,Uma,in\\n400,ORD336,2024-02-16 13:30:00,It020,1,Vicky,out\\n401,ORD337,2024-02-16 13:37:00,It012,1,Wendy,in\\n402,ORD338,2024-02-16 13:43:00,It019,1,Xian,out\\n403,ORD339,2024-02-16 13:50:00,It003,1,Yara,in\\n404,ORD340,2024-02-16 13:56:00,It007,1,Zack,out\\n405,ORD341,2024-02-16 14:03:00,It015,1,Amelia,in\\n406,ORD341,2024-02-16 14:03:00,It024,1,Amelia, \\n407,ORD342,2024-02-16 14:09:00,It002,1,Brad,out\\n408,ORD343,2024-02-16 14:16:00,It021,1,Cindy,in\\n409,ORD344,2024-02-16 14:22:00,It011,1,Derek,out\\n410,ORD345,2024-02-16 14:29:00,It028,1,Eliza,in\\n411,ORD346,2024-02-16 14:35:00,It016,1,Faisal,out\\n412,ORD347,2024-02-16 14:42:00,It005,1,Georgia,in\\n413,ORD348,2024-02-16 14:48:00,It022,1,Haris,out\\n414,ORD349,2024-02-16 14:55:00,It009,1,Ida,in\\n415,ORD350,2024-02-16 15:01:00,It025,1,Jaya,out\\n416,ORD351,2024-02-16 15:08:00,It018,1,Kurt,in\\n417,ORD352,2024-02-16 15:14:00,It003,1,Lana,out\\n418,ORD353,2024-02-16 15:21:00,It014,1,Moe,in\\n419,ORD354,2024-02-16 15:34:00,It022,1,Ian,out\\n420,ORD355,2024-02-16 15:54:00,It009,1,Jenna,in\\n421,ORD356,2024-02-16 16:14:00,It005,1,Keith,out\\n422,ORD357,2024-02-16 16:34:00,It018,1,Lila,in\\n423,ORD358,2024-02-16 16:54:00,It001,1,Mason,out\\n424,ORD359,2024-02-16 17:00:00,It014,1,Nora,in\\n425,ORD360,2024-02-17 07:03:00,It001,1,Susie,in\\n426,ORD361,2024-02-17 07:08:00,It017,1,Tom,out\\n427,ORD361,2024-02-17 07:08:00,It023,1,Tom, \\n428,ORD362,2024-02-17 07:13:00,It004,1,Ulla,in\\n429,ORD363,2024-02-17 07:18:00,It026,1,Victor,out\\n430,ORD363,2024-02-17 07:18:00,It020,1,Victor, \\n431,ORD364,2024-02-17 07:23:00,It009,1,Wendy,in\\n432,ORD365,2024-02-17 07:28:00,It014,1,Xavier,out\\n433,ORD365,2024-02-17 07:28:00,It007,1,Xavier, \\n434,ORD366,2024-02-17 07:34:00,It022,1,Yara,in\\n435,ORD367,2024-02-17 07:39:00,It005,1,Zoe,out\\n436,ORD368,2024-02-17 07:44:00,It012,1,Amy,in\\n437,ORD368,2024-02-17 07:44:00,It018,1,Amy, \\n438,ORD369,2024-02-17 07:49:00,It027,1,Ben,out\\n439,ORD370,2024-02-17 07:54:00,It003,1,Cara,in\\n440,ORD371,2024-02-17 07:59:00,It016,1,Dan,out\\n441,ORD371,2024-02-17 07:59:00,It008,1,Dan, \\n442,ORD372,2024-02-17 08:04:00,It011,1,Eve,in\\n443,ORD373,2024-02-17 08:10:00,It024,1,Finn,out\\n444,ORD374,2024-02-17 08:15:00,It006,1,Gia,in\\n445,ORD374,2024-02-17 08:15:00,It021,1,Gia, \\n446,ORD375,2024-02-17 08:20:00,It010,1,Hal,out\\n447,ORD376,2024-02-17 08:25:00,It025,1,Ida,in\\n448,ORD377,2024-02-17 08:30:00,It013,1,Jed,out\\n449,ORD377,2024-02-17 08:30:00,It019,1,Jed, \\n450,ORD378,2024-02-17 08:35:00,It002,1,Kip,in\\n451,ORD379,2024-02-17 08:40:00,It028,1,Lia,out\\n452,ORD380,2024-02-17 08:45:00,It015,1,Moe,in\\n453,ORD381,2024-02-17 08:51:00,It007,1,Nia,out\\n454,ORD381,2024-02-17 08:51:00,It023,1,Nia, \\n455,ORD382,2024-02-17 08:56:00,It001,1,Oli,in\\n456,ORD383,2024-02-17 09:01:00,It017,1,Pam,out\\n457,ORD384,2024-02-17 09:06:00,It004,1,Quin,in\\n458,ORD384,2024-02-17 09:06:00,It020,1,Quin, \\n459,ORD385,2024-02-17 09:11:00,It009,1,Rae,out\\n460,ORD386,2024-02-17 09:16:00,It026,1,Sam,in\\n461,ORD387,2024-02-17 09:21:00,It012,1,Ty,out\\n462,ORD388,2024-02-17 09:27:00,It018,1,Uma,in\\n463,ORD388,2024-02-17 09:27:00,It022,1,Uma, \\n464,ORD389,2024-02-17 09:32:00,It005,1,Val,out\\n465,ORD390,2024-02-17 09:37:00,It011,1,Wes,in\\n466,ORD391,2024-02-17 09:42:00,It027,1,Xi,out\\n467,ORD392,2024-02-17 09:47:00,It003,1,Yol,in\\n468,ORD393,2024-02-17 09:52:00,It016,1,Zed,out\\n469,ORD393,2024-02-17 09:52:00,It024,1,Zed, \\n470,ORD394,2024-02-17 09:57:00,It008,1,Amy,in\\n471,ORD394,2024-02-17 10:08:00,It016,1,Zack, \\n472,ORD395,2024-02-17 10:24:00,It024,1,Alex,in\\n473,ORD395,2024-02-17 10:24:00,It008,1,Alex, \\n474,ORD396,2024-02-17 10:40:00,It002,1,Brooke,out\\n475,ORD397,2024-02-17 10:56:00,It010,1,Charles,in\\n476,ORD398,2024-02-17 11:12:00,It005,1,Dana,out\\n477,ORD399,2024-02-17 11:28:00,It027,1,Evan,in\\n478,ORD400,2024-02-17 11:44:00,It013,1,Fiona,out\\n479,ORD401,2024-02-17 12:00:00,It021,1,George,in\\n480,ORD402,2024-02-17 12:16:00,It017,1,Heidi,out\\n481,ORD403,2024-02-17 12:00:00,It022,1,Ivy,in\\n482,ORD404,2024-02-17 12:07:00,It004,1,Jack,out\\n483,ORD404,2024-02-17 12:07:00,It006,1,Jack, \\n484,ORD405,2024-02-17 12:14:00,It018,1,Kiera,in\\n485,ORD406,2024-02-17 12:21:00,It011,1,Leo,out\\n486,ORD407,2024-02-17 12:28:00,It023,1,Mia,in\\n487,ORD407,2024-02-17 12:28:00,It025,1,Mia, \\n488,ORD408,2024-02-17 12:35:00,It009,1,Noah,out\\n489,ORD409,2024-02-17 12:42:00,It015,1,Olivia,in\\n490,ORD410,2024-02-17 12:49:00,It027,1,Pete,out\\n491,ORD411,2024-02-17 12:56:00,It003,1,Quinn,in\\n492,ORD412,2024-02-17 13:03:00,It020,1,Rachel,out\\n493,ORD412,2024-02-17 13:03:00,It014,1,Rachel, \\n494,ORD413,2024-02-17 13:10:00,It001,1,Sam,in\\n495,ORD414,2024-02-17 13:17:00,It008,1,Tina,out\\n496,ORD415,2024-02-17 13:24:00,It017,1,Umar,in\\n497,ORD416,2024-02-17 13:31:00,It005,1,Vivian,out\\n498,ORD417,2024-02-17 13:38:00,It012,1,Wendy,in\\n499,ORD417,2024-02-17 13:38:00,It024,1,Wendy, \\n500,ORD418,2024-02-17 13:45:00,It010,1,Xavier,out\\n501,ORD419,2024-02-17 13:52:00,It026,1,Yolanda,in\\n502,ORD420,2024-02-17 13:59:00,It019,1,Zack,out\\n503,ORD421,2024-02-17 14:06:00,It007,1,Amelia,in\\n504,ORD422,2024-02-17 14:13:00,It002,1,Brad,out\\n505,ORD423,2024-02-17 14:20:00,It013,1,Chloe,in\\n506,ORD424,2024-02-17 14:27:00,It021,1,Derek,out\\n507,ORD424,2024-02-17 14:27:00,It016,1,Derek, \\n508,ORD425,2024-02-17 14:34:00,It028,1,Eva,in\\n509,ORD426,2024-02-17 14:41:00,It009,1,Fred,out\\n510,ORD427,2024-02-17 14:48:00,It006,1,Gina,in\\n511,ORD428,2024-02-17 14:55:00,It023,1,Hugh,out\\n512,ORD429,2024-02-17 15:02:00,It018,1,Iris,in\\n513,ORD429,2024-02-17 15:02:00,It011,1,Iris, \\n514,ORD430,2024-02-17 15:23:00,It015,1,Liam,out\\n515,ORD431,2024-02-17 15:39:00,It027,1,Mia,in\\n516,ORD432,2024-02-17 15:55:00,It009,1,Fred,out\\n517,ORD433,2024-02-17 16:11:00,It023,1,Gina,in\\n518,ORD434,2024-02-17 16:27:00,It006,1,Hugh,out\\n519,ORD435,2024-02-17 16:43:00,It018,1,Iris,in\\n520,ORD436,2024-02-17 16:59:00,It002,1,Jack,out\\n521,ORD437,2024-02-17 17:00:00,It026,1,Kiera,in\\n', 'content_type': 'application/csv', 'buffer': <_io.BytesIO object at 0x7fdac4b8e570>}\n",
      "\n",
      "Foram inseridos 521 linha no arquivos 'dev/orders/orders', no bucket apresentacao\n",
      "{'data': b'ing_id,ing_name,ing_weight,ing_meas,ing_price\\nING001,Espresso beans,1000,grams,12.0\\nING002,Whole Milk,1000,ml,1.2\\nING003,Cheddar,500,grams,7.45\\nING004,Mozzarella,500,grams,5.0\\nING005,Whipped cream,300,ml,1.35\\nING006,Vanilla syrup,1000,ml,14.52\\nING007,Barista chocolate syrup,1000,ml,8.49\\nING008,Barista white chocolate syrup,1000,ml,8.49\\nING009,Barista caramel sauce,1000,ml,8.49\\nING010,Sugar,1000,grams,1.5\\nING011,Panini Bread,4,units,1.35\\nING012,Cocoa powder,1000,grams,22.0\\nING013,Chocolate,1000,grams,10.5\\nING014,Lemons,5,units,1.5\\nING015,Ham,1000,grams,27.5\\nING016,Salami,1000,grams,15.49\\nING017,Black Tea,1000,grams,16.0\\nING018,Vanilla extract,60,ml,9.99\\n', 'content_type': 'application/csv', 'buffer': <_io.BytesIO object at 0x7fdac4b8e570>}\n",
      "\n",
      "Foram inseridos 18 linha no arquivos 'dev/ingredients/ingredients', no bucket apresentacao\n",
      "{'data': b'item_id,sku,item_name,item_cat,item_size,item_price\\nIt001,HDR-CAP-MD,Cappuccino,Hot Drinks,Medium,3.45\\nIt002,HDR-CAP-LG,Cappuccino,Hot Drinks,Large,3.75\\nIt003,HDR-LAT-MD,Latte,Hot Drinks,Medium,3.45\\nIt004,HDR-LAT-LG,Latte,Hot Drinks,Large,3.75\\nIt005,HDR-FLT,Flat White,Hot Drinks,,3.15\\nIt006,HDR-CRM-MD,Caramel Macchiato,Hot Drinks,Medium,4.2\\nIt007,HDR-CRM-LG,Caramel Macchiato,Hot Drinks,Large,4.6\\nIt008,HDR-ESP,Espresso,Hot Drinks,,2.15\\nIt009,HDR-MOC-MD,Mocha,Hot Drinks,Medium,4.0\\nIt010,HDR-MOC-LG,Mocha,Hot Drinks,Large,4.6\\nIt011,HDR-WMO-MD,White Mocha,Hot Drinks,Medium,4.5\\nIt012,HDR-WMO-LG,White Mocha,Hot Drinks,Large,4.7\\nIt013,HDR-HCH-MD,Hot Chocolate,Hot Drinks,Medium,4.2\\nIt014,HDR-HCH-LG,Hot Chocolate,Hot Drinks,Large,4.6\\nIt015,CDR-CCF-MD,Cold Coffee,Cold Drinks,Medium,3.45\\nIt016,CDR-CCF-LG,Cold Coffee,Cold Drinks,Large,3.75\\nIt017,CDR-CMO-MD,Cold Mocha,Cold Drinks,Medium,4.0\\nIt018,CDR-CMO-LG,Cold Mocha,Cold Drinks,Large,4.6\\nIt019,CDR-ICT-MD,Iced Tea,Cold Drinks,Medium,3.25\\nIt020,CDR-ICT-LG,Iced Tea,Cold Drinks,Large,3.55\\nIt021,CDR-LMN-MD,Lemonade,Cold Drinks,Medium,3.35\\nIt022,CDR-LMN-LG,Lemonade,Cold Drinks,Large,3.75\\nIt023,SNK-SHC,Sandwich Ham&Cheese,Snacks,,5.6\\nIt024,SNK-SSM,Sandwich Salami&Mozzarella,Snacks,,5.5\\n', 'content_type': 'application/csv', 'buffer': <_io.BytesIO object at 0x7fdac4b8e570>}\n",
      "\n",
      "Foram inseridos 24 linha no arquivos 'dev/items/items', no bucket apresentacao\n",
      "{'data': b'row_id,recipe_id,ing_id,quantity\\n1,HDR-CAP-MD,ING001,8\\n2,HDR-CAP-MD,ING002,130\\n3,HDR-CAP-LG,ING001,10\\n4,HDR-CAP-LG,ING002,180\\n5,HDR-LAT-MD,ING001,8\\n6,HDR-LAT-MD,ING002,130\\n7,HDR-LAT-LG,ING001,10\\n8,HDR-LAT-LG,ING002,180\\n9,HDR-FLT,ING001,8\\n10,HDR-FLT,ING002,160\\n11,HDR-CRM-MD,ING001,8\\n12,HDR-CRM-MD,ING002,120\\n13,HDR-CRM-MD,ING009,20\\n14,HDR-CRM-LG,ING001,10\\n15,HDR-CRM-LG,ING002,160\\n16,HDR-CRM-LG,ING009,30\\n17,HDR-ESP,ING001,8\\n18,HDR-MOC-MD,ING001,8\\n19,HDR-MOC-MD,ING002,120\\n20,HDR-MOC-MD,ING007,20\\n21,HDR-MOC-LG,ING001,10\\n22,HDR-MOC-LG,ING002,160\\n23,HDR-MOC-LG,ING007,30\\n24,HDR-WMO-MD,ING001,8\\n25,HDR-WMO-MD,ING002,120\\n26,HDR-WMO-MD,ING008,20\\n27,HDR-WMO-LG,ING001,10\\n28,HDR-WMO-LG,ING002,160\\n29,HDR-WMO-LG,ING008,30\\n30,HDR-HCH-MD,ING002,130\\n31,HDR-HCH-MD,ING012,25\\n32,HDR-HCH-MD,ING013,20\\n33,HDR-HCH-MD,ING005,30\\n34,HDR-HCH-LG,ING002,180\\n35,HDR-HCH-LG,ING012,35\\n36,HDR-HCH-LG,ING013,30\\n37,HDR-HCH-LG,ING005,40\\n38,CDR-CCF-MD,ING001,8\\n39,CDR-CCF-MD,ING002,130\\n40,CDR-CCF-LG,ING001,10\\n41,CDR-CCF-LG,ING002,180\\n42,CDR-CMO-MD,ING001,8\\n43,CDR-CMO-MD,ING002,120\\n44,CDR-CMO-MD,ING007,20\\n45,CDR-CMO-LG,ING001,10\\n46,CDR-CMO-LG,ING002,160\\n47,CDR-CMO-LG,ING007,30\\n48,CDR-ICT-MD,ING017,10\\n49,CDR-ICT-MD,ING010,20\\n50,CDR-ICT-LG,ING016,15\\n51,CDR-ICT-LG,ING010,25\\n52,CDR-LMN-MD,ING014,1\\n53,CDR-LMN-MD,ING010,30\\n54,CDR-LMN-LG,ING014,1\\n55,CDR-LMN-LG,ING010,40\\n56,SNK-SHC,ING011,1\\n57,SNK-SHC,ING015,50\\n58,SNK-SHC,ING003,20\\n59,SNK-SSM,ING011,1\\n60,SNK-SSM,ING016,50\\n61,SNK-SSM,ING004,20\\n', 'content_type': 'application/csv', 'buffer': <_io.BytesIO object at 0x7fdac4b8e570>}\n",
      "\n",
      "Foram inseridos 61 linha no arquivos 'dev/recipe/recipe', no bucket apresentacao\n"
     ]
    }
   ],
   "source": [
    "## Lendo arquivo local e inserindo no bucket\n",
    "\n",
    "orders = pd.read_csv('../files/orders.csv',  sep=',', quoting=csv.QUOTE_ALL, skipinitialspace = True, encoding='ISO-8859-1')\n",
    "s3.put_bucket(bucket_name=BUCKET_NAME, key='dev/orders/orders', data=orders, file_format='csv')\n",
    "\n",
    "ingredients = pd.read_csv('../files/ingredients.csv',  sep=',', quoting=csv.QUOTE_ALL, skipinitialspace = True, encoding='ISO-8859-1')\n",
    "s3.put_bucket(bucket_name=BUCKET_NAME, key='dev/ingredients/ingredients', data=ingredients, file_format='csv')\n",
    "\n",
    "items = pd.read_csv('../files/items.csv',  sep=',', quoting=csv.QUOTE_ALL, skipinitialspace = True, encoding='ISO-8859-1')\n",
    "s3.put_bucket(bucket_name=BUCKET_NAME, key='dev/items/items', data=items, file_format='csv')\n",
    "\n",
    "recipe = pd.read_csv('../files/recipe.csv',  sep=',', quoting=csv.QUOTE_ALL, skipinitialspace = True, encoding='ISO-8859-1')\n",
    "s3.put_bucket(bucket_name=BUCKET_NAME, key='dev/recipe/recipe', data=recipe, file_format='csv')"
   ]
  },
  {
   "cell_type": "code",
   "execution_count": 6,
   "metadata": {},
   "outputs": [
    {
     "data": {
      "text/plain": [
       "['dev/bronze/recipe_ingredients',\n",
       " 'dev/ingredients/ingredients',\n",
       " 'dev/items/items',\n",
       " 'dev/orders/orders',\n",
       " 'dev/recipe/recipe']"
      ]
     },
     "execution_count": 6,
     "metadata": {},
     "output_type": "execute_result"
    }
   ],
   "source": [
    "## Lista de objetos no bucket\n",
    "s3.list_objects(BUCKET_NAME, dir=SCHEMA)"
   ]
  },
  {
   "cell_type": "code",
   "execution_count": 7,
   "metadata": {},
   "outputs": [
    {
     "data": {
      "text/html": [
       "<div>\n",
       "<style scoped>\n",
       "    .dataframe tbody tr th:only-of-type {\n",
       "        vertical-align: middle;\n",
       "    }\n",
       "\n",
       "    .dataframe tbody tr th {\n",
       "        vertical-align: top;\n",
       "    }\n",
       "\n",
       "    .dataframe thead th {\n",
       "        text-align: right;\n",
       "    }\n",
       "</style>\n",
       "<table border=\"1\" class=\"dataframe\">\n",
       "  <thead>\n",
       "    <tr style=\"text-align: right;\">\n",
       "      <th></th>\n",
       "      <th>row_id</th>\n",
       "      <th>recipe_id</th>\n",
       "      <th>ing_id</th>\n",
       "      <th>quantity</th>\n",
       "    </tr>\n",
       "  </thead>\n",
       "  <tbody>\n",
       "    <tr>\n",
       "      <th>0</th>\n",
       "      <td>1</td>\n",
       "      <td>HDR-CAP-MD</td>\n",
       "      <td>ING001</td>\n",
       "      <td>8</td>\n",
       "    </tr>\n",
       "    <tr>\n",
       "      <th>1</th>\n",
       "      <td>2</td>\n",
       "      <td>HDR-CAP-MD</td>\n",
       "      <td>ING002</td>\n",
       "      <td>130</td>\n",
       "    </tr>\n",
       "    <tr>\n",
       "      <th>2</th>\n",
       "      <td>3</td>\n",
       "      <td>HDR-CAP-LG</td>\n",
       "      <td>ING001</td>\n",
       "      <td>10</td>\n",
       "    </tr>\n",
       "    <tr>\n",
       "      <th>3</th>\n",
       "      <td>4</td>\n",
       "      <td>HDR-CAP-LG</td>\n",
       "      <td>ING002</td>\n",
       "      <td>180</td>\n",
       "    </tr>\n",
       "    <tr>\n",
       "      <th>4</th>\n",
       "      <td>5</td>\n",
       "      <td>HDR-LAT-MD</td>\n",
       "      <td>ING001</td>\n",
       "      <td>8</td>\n",
       "    </tr>\n",
       "  </tbody>\n",
       "</table>\n",
       "</div>"
      ],
      "text/plain": [
       "   row_id   recipe_id  ing_id  quantity\n",
       "0       1  HDR-CAP-MD  ING001         8\n",
       "1       2  HDR-CAP-MD  ING002       130\n",
       "2       3  HDR-CAP-LG  ING001        10\n",
       "3       4  HDR-CAP-LG  ING002       180\n",
       "4       5  HDR-LAT-MD  ING001         8"
      ]
     },
     "execution_count": 7,
     "metadata": {},
     "output_type": "execute_result"
    }
   ],
   "source": [
    "recipe.head()"
   ]
  },
  {
   "cell_type": "code",
   "execution_count": null,
   "metadata": {},
   "outputs": [],
   "source": [
    "## Retorno em df\n",
    "## Exemplo de como ler arquivo direto do bucket(MinIo) \n",
    "orders = s3.load_file_s3(path='dev/orders/orders', bucket_name=BUCKET_NAME, format='csv')\n",
    "items = s3.load_file_s3(path='dev/items/items', bucket_name=BUCKET_NAME, format='csv')\n",
    "ingredients = s3.load_file_s3(path='dev/ingredients/ingredients', bucket_name=BUCKET_NAME, format='csv')\n",
    "recipe = s3.load_file_s3(path='dev/ingredients/ingredients', bucket_name=BUCKET_NAME, format='csv')"
   ]
  },
  {
   "cell_type": "code",
   "execution_count": 50,
   "metadata": {},
   "outputs": [
    {
     "data": {
      "text/plain": [
       "[['trino', 'http://192.168.176.4:8080', '351', True, 'active']]"
      ]
     },
     "execution_count": 50,
     "metadata": {},
     "output_type": "execute_result"
    }
   ],
   "source": [
    "# TRINO\n",
    "trinoProvider.test_connection()"
   ]
  },
  {
   "cell_type": "code",
   "execution_count": 33,
   "metadata": {},
   "outputs": [
    {
     "name": "stdout",
     "output_type": "stream",
     "text": [
      "[['memory'], ['minio'], ['system'], ['tpcds'], ['tpch']]\n",
      "\n",
      "Execute SQL: SHOW CATALOGS\n"
     ]
    },
    {
     "data": {
      "text/html": [
       "<div>\n",
       "<style scoped>\n",
       "    .dataframe tbody tr th:only-of-type {\n",
       "        vertical-align: middle;\n",
       "    }\n",
       "\n",
       "    .dataframe tbody tr th {\n",
       "        vertical-align: top;\n",
       "    }\n",
       "\n",
       "    .dataframe thead th {\n",
       "        text-align: right;\n",
       "    }\n",
       "</style>\n",
       "<table border=\"1\" class=\"dataframe\">\n",
       "  <thead>\n",
       "    <tr style=\"text-align: right;\">\n",
       "      <th></th>\n",
       "      <th>Catalog</th>\n",
       "    </tr>\n",
       "  </thead>\n",
       "  <tbody>\n",
       "    <tr>\n",
       "      <th>0</th>\n",
       "      <td>memory</td>\n",
       "    </tr>\n",
       "    <tr>\n",
       "      <th>1</th>\n",
       "      <td>minio</td>\n",
       "    </tr>\n",
       "    <tr>\n",
       "      <th>2</th>\n",
       "      <td>system</td>\n",
       "    </tr>\n",
       "    <tr>\n",
       "      <th>3</th>\n",
       "      <td>tpcds</td>\n",
       "    </tr>\n",
       "    <tr>\n",
       "      <th>4</th>\n",
       "      <td>tpch</td>\n",
       "    </tr>\n",
       "  </tbody>\n",
       "</table>\n",
       "</div>"
      ],
      "text/plain": [
       "  Catalog\n",
       "0  memory\n",
       "1   minio\n",
       "2  system\n",
       "3   tpcds\n",
       "4    tpch"
      ]
     },
     "execution_count": 33,
     "metadata": {},
     "output_type": "execute_result"
    }
   ],
   "source": [
    "## Exemplos de chamadas \n",
    "\n",
    "## Ver catalago de dados\n",
    "cursor = trinoProvider.conn()\n",
    "cursor.execute('SHOW CATALOGS')\n",
    "print(cursor.fetchall())\n",
    "\n",
    "trinoProvider.get_result_pandas('SHOW CATALOGS')\n"
   ]
  },
  {
   "cell_type": "code",
   "execution_count": 34,
   "metadata": {},
   "outputs": [
    {
     "name": "stdout",
     "output_type": "stream",
     "text": [
      "\n",
      "Execute SQL: SHOW SCHEMAS FROM minio LIKE 'dev'\n"
     ]
    },
    {
     "data": {
      "text/html": [
       "<div>\n",
       "<style scoped>\n",
       "    .dataframe tbody tr th:only-of-type {\n",
       "        vertical-align: middle;\n",
       "    }\n",
       "\n",
       "    .dataframe tbody tr th {\n",
       "        vertical-align: top;\n",
       "    }\n",
       "\n",
       "    .dataframe thead th {\n",
       "        text-align: right;\n",
       "    }\n",
       "</style>\n",
       "<table border=\"1\" class=\"dataframe\">\n",
       "  <thead>\n",
       "    <tr style=\"text-align: right;\">\n",
       "      <th></th>\n",
       "      <th>Schema</th>\n",
       "    </tr>\n",
       "  </thead>\n",
       "  <tbody>\n",
       "    <tr>\n",
       "      <th>0</th>\n",
       "      <td>dev</td>\n",
       "    </tr>\n",
       "  </tbody>\n",
       "</table>\n",
       "</div>"
      ],
      "text/plain": [
       "  Schema\n",
       "0    dev"
      ]
     },
     "execution_count": 34,
     "metadata": {},
     "output_type": "execute_result"
    }
   ],
   "source": [
    "## Ver schemas no Trino\n",
    "trinoProvider.get_result_pandas(\"SHOW SCHEMAS FROM minio LIKE 'dev'\")"
   ]
  },
  {
   "cell_type": "code",
   "execution_count": 20,
   "metadata": {},
   "outputs": [
    {
     "name": "stdout",
     "output_type": "stream",
     "text": [
      "\n",
      "Execute SQL: SHOW tables FROM minio.dev\n"
     ]
    },
    {
     "data": {
      "text/html": [
       "<div>\n",
       "<style scoped>\n",
       "    .dataframe tbody tr th:only-of-type {\n",
       "        vertical-align: middle;\n",
       "    }\n",
       "\n",
       "    .dataframe tbody tr th {\n",
       "        vertical-align: top;\n",
       "    }\n",
       "\n",
       "    .dataframe thead th {\n",
       "        text-align: right;\n",
       "    }\n",
       "</style>\n",
       "<table border=\"1\" class=\"dataframe\">\n",
       "  <thead>\n",
       "    <tr style=\"text-align: right;\">\n",
       "      <th></th>\n",
       "      <th>Table</th>\n",
       "    </tr>\n",
       "  </thead>\n",
       "  <tbody>\n",
       "    <tr>\n",
       "      <th>0</th>\n",
       "      <td>cancelled_diverted</td>\n",
       "    </tr>\n",
       "    <tr>\n",
       "      <th>1</th>\n",
       "      <td>ingredients</td>\n",
       "    </tr>\n",
       "    <tr>\n",
       "      <th>2</th>\n",
       "      <td>items</td>\n",
       "    </tr>\n",
       "    <tr>\n",
       "      <th>3</th>\n",
       "      <td>orders</td>\n",
       "    </tr>\n",
       "    <tr>\n",
       "      <th>4</th>\n",
       "      <td>recipe</td>\n",
       "    </tr>\n",
       "    <tr>\n",
       "      <th>5</th>\n",
       "      <td>us_flights</td>\n",
       "    </tr>\n",
       "    <tr>\n",
       "      <th>6</th>\n",
       "      <td>weather_meteo_by_airport</td>\n",
       "    </tr>\n",
       "  </tbody>\n",
       "</table>\n",
       "</div>"
      ],
      "text/plain": [
       "                      Table\n",
       "0        cancelled_diverted\n",
       "1               ingredients\n",
       "2                     items\n",
       "3                    orders\n",
       "4                    recipe\n",
       "5                us_flights\n",
       "6  weather_meteo_by_airport"
      ]
     },
     "execution_count": 20,
     "metadata": {},
     "output_type": "execute_result"
    }
   ],
   "source": [
    "## lista de tabelas\n",
    "trinoProvider.get_result_pandas(\"SHOW tables FROM minio.dev\")"
   ]
  },
  {
   "cell_type": "code",
   "execution_count": 74,
   "metadata": {},
   "outputs": [
    {
     "name": "stdout",
     "output_type": "stream",
     "text": [
      "\n",
      "Execute SQL: DROP TABLE minio.dev.items\n"
     ]
    },
    {
     "data": {
      "text/html": [
       "<div>\n",
       "<style scoped>\n",
       "    .dataframe tbody tr th:only-of-type {\n",
       "        vertical-align: middle;\n",
       "    }\n",
       "\n",
       "    .dataframe tbody tr th {\n",
       "        vertical-align: top;\n",
       "    }\n",
       "\n",
       "    .dataframe thead th {\n",
       "        text-align: right;\n",
       "    }\n",
       "</style>\n",
       "<table border=\"1\" class=\"dataframe\">\n",
       "  <thead>\n",
       "    <tr style=\"text-align: right;\">\n",
       "      <th></th>\n",
       "      <th>result</th>\n",
       "    </tr>\n",
       "  </thead>\n",
       "  <tbody>\n",
       "    <tr>\n",
       "      <th>0</th>\n",
       "      <td>True</td>\n",
       "    </tr>\n",
       "  </tbody>\n",
       "</table>\n",
       "</div>"
      ],
      "text/plain": [
       "   result\n",
       "0    True"
      ]
     },
     "execution_count": 74,
     "metadata": {},
     "output_type": "execute_result"
    }
   ],
   "source": [
    "## Deletando uma tabela\n",
    "trinoProvider.get_result_pandas(\"DROP TABLE minio.dev.items\")"
   ]
  },
  {
   "cell_type": "code",
   "execution_count": null,
   "metadata": {},
   "outputs": [],
   "source": [
    "## Criando tabela no trino\n",
    "key_s3= f\"{SCHEMA}/orders\"\n",
    "trinoProvider.create_table_and_metadata(df=orders, bucket_name=BUCKET_NAME, catalog=CATALOG, schema=SCHEMA,  key_s3=key_s3, table='orders', separator=',', format_file='csv')\n"
   ]
  },
  {
   "cell_type": "code",
   "execution_count": null,
   "metadata": {},
   "outputs": [],
   "source": [
    "## Criando tabela no trino\n",
    "key_s3= f\"{SCHEMA}/items\"\n",
    "trinoProvider.create_table_and_metadata(df=items, bucket_name=BUCKET_NAME, catalog=CATALOG, schema=SCHEMA, key_s3=key_s3, table='items', separator=',', format_file='csv')"
   ]
  },
  {
   "cell_type": "code",
   "execution_count": null,
   "metadata": {},
   "outputs": [],
   "source": [
    "## Criando tabela no trino\n",
    "key_s3 = f\"{SCHEMA}/ingredients\"\n",
    "trinoProvider.create_table_and_metadata(df=ingredients, bucket_name=BUCKET_NAME, catalog=CATALOG, schema=SCHEMA, key_s3=key_s3, table='ingredients', separator=',', format_file='csv')"
   ]
  },
  {
   "cell_type": "code",
   "execution_count": 11,
   "metadata": {},
   "outputs": [
    {
     "name": "stdout",
     "output_type": "stream",
     "text": [
      "NAME:  row_id  TYPE:  int64\n",
      "NAME:  recipe_id  TYPE:  object\n",
      "NAME:  ing_id  TYPE:  object\n",
      "NAME:  quantity  TYPE:  int64\n",
      "\n",
      "Execute SQL: SHOW SCHEMAS FROM minio LIKE 'dev'\n",
      "Schema dev exist\n",
      "\n",
      "Execute SQL: SHOW TABLES FROM minio.dev LIKE 'recipe'\n",
      "Table minio.dev.recipe exist\n"
     ]
    },
    {
     "data": {
      "text/html": [
       "<div>\n",
       "<style scoped>\n",
       "    .dataframe tbody tr th:only-of-type {\n",
       "        vertical-align: middle;\n",
       "    }\n",
       "\n",
       "    .dataframe tbody tr th {\n",
       "        vertical-align: top;\n",
       "    }\n",
       "\n",
       "    .dataframe thead th {\n",
       "        text-align: right;\n",
       "    }\n",
       "</style>\n",
       "<table border=\"1\" class=\"dataframe\">\n",
       "  <thead>\n",
       "    <tr style=\"text-align: right;\">\n",
       "      <th></th>\n",
       "      <th>0</th>\n",
       "    </tr>\n",
       "  </thead>\n",
       "  <tbody>\n",
       "    <tr>\n",
       "      <th>0</th>\n",
       "      <td>recipe</td>\n",
       "    </tr>\n",
       "  </tbody>\n",
       "</table>\n",
       "</div>"
      ],
      "text/plain": [
       "        0\n",
       "0  recipe"
      ]
     },
     "execution_count": 11,
     "metadata": {},
     "output_type": "execute_result"
    }
   ],
   "source": [
    "## Criando tabela  no trino\n",
    "key_s3 = f\"{SCHEMA}/recipe\"\n",
    "trinoProvider.create_table_and_metadata(df=recipe, bucket_name=BUCKET_NAME, catalog=CATALOG, schema=SCHEMA, key_s3=key_s3, table='recipe', separator=',', format_file='csv')"
   ]
  },
  {
   "cell_type": "code",
   "execution_count": 12,
   "metadata": {},
   "outputs": [
    {
     "name": "stdout",
     "output_type": "stream",
     "text": [
      "\n",
      "Execute SQL: SELECT * FROM minio.dev.orders\n"
     ]
    },
    {
     "data": {
      "text/html": [
       "<div>\n",
       "<style scoped>\n",
       "    .dataframe tbody tr th:only-of-type {\n",
       "        vertical-align: middle;\n",
       "    }\n",
       "\n",
       "    .dataframe tbody tr th {\n",
       "        vertical-align: top;\n",
       "    }\n",
       "\n",
       "    .dataframe thead th {\n",
       "        text-align: right;\n",
       "    }\n",
       "</style>\n",
       "<table border=\"1\" class=\"dataframe\">\n",
       "  <thead>\n",
       "    <tr style=\"text-align: right;\">\n",
       "      <th></th>\n",
       "      <th>row_id</th>\n",
       "      <th>order_id</th>\n",
       "      <th>created_at</th>\n",
       "      <th>item_id</th>\n",
       "      <th>quantity</th>\n",
       "      <th>cust_name</th>\n",
       "      <th>in_or_out</th>\n",
       "    </tr>\n",
       "  </thead>\n",
       "  <tbody>\n",
       "    <tr>\n",
       "      <th>0</th>\n",
       "      <td>1</td>\n",
       "      <td>ORD001</td>\n",
       "      <td>2024-02-12 07:04:19</td>\n",
       "      <td>It008</td>\n",
       "      <td>1</td>\n",
       "      <td>Alex</td>\n",
       "      <td>out</td>\n",
       "    </tr>\n",
       "    <tr>\n",
       "      <th>1</th>\n",
       "      <td>2</td>\n",
       "      <td>ORD002</td>\n",
       "      <td>2024-02-12 07:09:38</td>\n",
       "      <td>It014</td>\n",
       "      <td>1</td>\n",
       "      <td>Jordan</td>\n",
       "      <td>in</td>\n",
       "    </tr>\n",
       "    <tr>\n",
       "      <th>2</th>\n",
       "      <td>3</td>\n",
       "      <td>ORD003</td>\n",
       "      <td>2024-02-12 07:14:29</td>\n",
       "      <td>It008</td>\n",
       "      <td>1</td>\n",
       "      <td>Taylor</td>\n",
       "      <td>out</td>\n",
       "    </tr>\n",
       "    <tr>\n",
       "      <th>3</th>\n",
       "      <td>4</td>\n",
       "      <td>ORD004</td>\n",
       "      <td>2024-02-12 07:18:39</td>\n",
       "      <td>It019</td>\n",
       "      <td>1</td>\n",
       "      <td>Casey</td>\n",
       "      <td>out</td>\n",
       "    </tr>\n",
       "    <tr>\n",
       "      <th>4</th>\n",
       "      <td>5</td>\n",
       "      <td>ORD005</td>\n",
       "      <td>2024-02-12 07:23:44</td>\n",
       "      <td>It024</td>\n",
       "      <td>1</td>\n",
       "      <td>Jamie</td>\n",
       "      <td>out</td>\n",
       "    </tr>\n",
       "  </tbody>\n",
       "</table>\n",
       "</div>"
      ],
      "text/plain": [
       "   row_id order_id           created_at item_id  quantity cust_name in_or_out\n",
       "0       1   ORD001  2024-02-12 07:04:19   It008         1      Alex       out\n",
       "1       2   ORD002  2024-02-12 07:09:38   It014         1    Jordan        in\n",
       "2       3   ORD003  2024-02-12 07:14:29   It008         1    Taylor       out\n",
       "3       4   ORD004  2024-02-12 07:18:39   It019         1     Casey       out\n",
       "4       5   ORD005  2024-02-12 07:23:44   It024         1     Jamie       out"
      ]
     },
     "execution_count": 12,
     "metadata": {},
     "output_type": "execute_result"
    }
   ],
   "source": [
    "trinoProvider.get_result_pandas(\"SELECT * FROM minio.dev.orders\").head()"
   ]
  },
  {
   "cell_type": "code",
   "execution_count": 20,
   "metadata": {},
   "outputs": [
    {
     "name": "stdout",
     "output_type": "stream",
     "text": [
      "\n",
      "Execute SQL: SELECT * FROM minio.dev.items\n"
     ]
    },
    {
     "data": {
      "text/html": [
       "<div>\n",
       "<style scoped>\n",
       "    .dataframe tbody tr th:only-of-type {\n",
       "        vertical-align: middle;\n",
       "    }\n",
       "\n",
       "    .dataframe tbody tr th {\n",
       "        vertical-align: top;\n",
       "    }\n",
       "\n",
       "    .dataframe thead th {\n",
       "        text-align: right;\n",
       "    }\n",
       "</style>\n",
       "<table border=\"1\" class=\"dataframe\">\n",
       "  <thead>\n",
       "    <tr style=\"text-align: right;\">\n",
       "      <th></th>\n",
       "      <th>item_id</th>\n",
       "      <th>sku</th>\n",
       "      <th>item_name</th>\n",
       "      <th>item_cat</th>\n",
       "      <th>item_size</th>\n",
       "      <th>item_price</th>\n",
       "    </tr>\n",
       "  </thead>\n",
       "  <tbody>\n",
       "    <tr>\n",
       "      <th>0</th>\n",
       "      <td>It001</td>\n",
       "      <td>HDR-CAP-MD</td>\n",
       "      <td>Cappuccino</td>\n",
       "      <td>\"Hot Drinks\"</td>\n",
       "      <td>Medium</td>\n",
       "      <td>3.45</td>\n",
       "    </tr>\n",
       "    <tr>\n",
       "      <th>1</th>\n",
       "      <td>It002</td>\n",
       "      <td>HDR-CAP-LG</td>\n",
       "      <td>Cappuccino</td>\n",
       "      <td>\"Hot Drinks\"</td>\n",
       "      <td>Large</td>\n",
       "      <td>3.75</td>\n",
       "    </tr>\n",
       "    <tr>\n",
       "      <th>2</th>\n",
       "      <td>It003</td>\n",
       "      <td>HDR-LAT-MD</td>\n",
       "      <td>Latte</td>\n",
       "      <td>\"Hot Drinks\"</td>\n",
       "      <td>Medium</td>\n",
       "      <td>3.45</td>\n",
       "    </tr>\n",
       "    <tr>\n",
       "      <th>3</th>\n",
       "      <td>It004</td>\n",
       "      <td>HDR-LAT-LG</td>\n",
       "      <td>Latte</td>\n",
       "      <td>\"Hot Drinks\"</td>\n",
       "      <td>Large</td>\n",
       "      <td>3.75</td>\n",
       "    </tr>\n",
       "    <tr>\n",
       "      <th>4</th>\n",
       "      <td>It005</td>\n",
       "      <td>HDR-FLT</td>\n",
       "      <td>\"Flat White\"</td>\n",
       "      <td>\"Hot Drinks\"</td>\n",
       "      <td>N/A</td>\n",
       "      <td>3.15</td>\n",
       "    </tr>\n",
       "  </tbody>\n",
       "</table>\n",
       "</div>"
      ],
      "text/plain": [
       "  item_id         sku     item_name      item_cat item_size  item_price\n",
       "0   It001  HDR-CAP-MD    Cappuccino  \"Hot Drinks\"    Medium        3.45\n",
       "1   It002  HDR-CAP-LG    Cappuccino  \"Hot Drinks\"     Large        3.75\n",
       "2   It003  HDR-LAT-MD         Latte  \"Hot Drinks\"    Medium        3.45\n",
       "3   It004  HDR-LAT-LG         Latte  \"Hot Drinks\"     Large        3.75\n",
       "4   It005     HDR-FLT  \"Flat White\"  \"Hot Drinks\"       N/A        3.15"
      ]
     },
     "execution_count": 20,
     "metadata": {},
     "output_type": "execute_result"
    }
   ],
   "source": [
    "trinoProvider.get_result_pandas(\"SELECT * FROM minio.dev.items\").head()"
   ]
  },
  {
   "cell_type": "code",
   "execution_count": 82,
   "metadata": {},
   "outputs": [
    {
     "name": "stdout",
     "output_type": "stream",
     "text": [
      "\n",
      "Execute SQL: SELECT * FROM minio.dev.ingredients\n"
     ]
    },
    {
     "data": {
      "text/html": [
       "<div>\n",
       "<style scoped>\n",
       "    .dataframe tbody tr th:only-of-type {\n",
       "        vertical-align: middle;\n",
       "    }\n",
       "\n",
       "    .dataframe tbody tr th {\n",
       "        vertical-align: top;\n",
       "    }\n",
       "\n",
       "    .dataframe thead th {\n",
       "        text-align: right;\n",
       "    }\n",
       "</style>\n",
       "<table border=\"1\" class=\"dataframe\">\n",
       "  <thead>\n",
       "    <tr style=\"text-align: right;\">\n",
       "      <th></th>\n",
       "      <th>ing_id</th>\n",
       "      <th>ing_name</th>\n",
       "      <th>ing_weight</th>\n",
       "      <th>ing_meas</th>\n",
       "      <th>ing_price</th>\n",
       "    </tr>\n",
       "  </thead>\n",
       "  <tbody>\n",
       "    <tr>\n",
       "      <th>0</th>\n",
       "      <td>ING001</td>\n",
       "      <td>Espresso beans</td>\n",
       "      <td>1000</td>\n",
       "      <td>grams</td>\n",
       "      <td>12.00</td>\n",
       "    </tr>\n",
       "    <tr>\n",
       "      <th>1</th>\n",
       "      <td>ING002</td>\n",
       "      <td>Whole Milk</td>\n",
       "      <td>1000</td>\n",
       "      <td>ml</td>\n",
       "      <td>1.20</td>\n",
       "    </tr>\n",
       "    <tr>\n",
       "      <th>2</th>\n",
       "      <td>ING003</td>\n",
       "      <td>Cheddar</td>\n",
       "      <td>500</td>\n",
       "      <td>grams</td>\n",
       "      <td>7.45</td>\n",
       "    </tr>\n",
       "    <tr>\n",
       "      <th>3</th>\n",
       "      <td>ING004</td>\n",
       "      <td>Mozzarella</td>\n",
       "      <td>500</td>\n",
       "      <td>grams</td>\n",
       "      <td>5.00</td>\n",
       "    </tr>\n",
       "    <tr>\n",
       "      <th>4</th>\n",
       "      <td>ING005</td>\n",
       "      <td>Whipped cream</td>\n",
       "      <td>300</td>\n",
       "      <td>ml</td>\n",
       "      <td>1.35</td>\n",
       "    </tr>\n",
       "  </tbody>\n",
       "</table>\n",
       "</div>"
      ],
      "text/plain": [
       "   ing_id        ing_name  ing_weight ing_meas  ing_price\n",
       "0  ING001  Espresso beans        1000    grams      12.00\n",
       "1  ING002      Whole Milk        1000       ml       1.20\n",
       "2  ING003         Cheddar         500    grams       7.45\n",
       "3  ING004      Mozzarella         500    grams       5.00\n",
       "4  ING005   Whipped cream         300       ml       1.35"
      ]
     },
     "execution_count": 82,
     "metadata": {},
     "output_type": "execute_result"
    }
   ],
   "source": [
    "trinoProvider.get_result_pandas(\"SELECT * FROM minio.dev.ingredients\").head()"
   ]
  },
  {
   "cell_type": "code",
   "execution_count": 83,
   "metadata": {},
   "outputs": [
    {
     "name": "stdout",
     "output_type": "stream",
     "text": [
      "\n",
      "Execute SQL: \n",
      "    SELECT o.* \n",
      "         , i.*\n",
      "      FROM minio.dev.orders as o\n",
      "    INNER JOIN minio.dev.items as i\n",
      "       ON o.item_id = i.item_id\n",
      "\n"
     ]
    },
    {
     "data": {
      "text/html": [
       "<div>\n",
       "<style scoped>\n",
       "    .dataframe tbody tr th:only-of-type {\n",
       "        vertical-align: middle;\n",
       "    }\n",
       "\n",
       "    .dataframe tbody tr th {\n",
       "        vertical-align: top;\n",
       "    }\n",
       "\n",
       "    .dataframe thead th {\n",
       "        text-align: right;\n",
       "    }\n",
       "</style>\n",
       "<table border=\"1\" class=\"dataframe\">\n",
       "  <thead>\n",
       "    <tr style=\"text-align: right;\">\n",
       "      <th></th>\n",
       "      <th>row_id</th>\n",
       "      <th>order_id</th>\n",
       "      <th>created_at</th>\n",
       "      <th>item_id</th>\n",
       "      <th>quantity</th>\n",
       "      <th>cust_name</th>\n",
       "      <th>in_or_out</th>\n",
       "      <th>item_id</th>\n",
       "      <th>sku</th>\n",
       "      <th>item_name</th>\n",
       "      <th>item_cat</th>\n",
       "      <th>item_size</th>\n",
       "      <th>item_price</th>\n",
       "    </tr>\n",
       "  </thead>\n",
       "  <tbody>\n",
       "    <tr>\n",
       "      <th>0</th>\n",
       "      <td>1</td>\n",
       "      <td>ORD001</td>\n",
       "      <td>2024-02-12 07:04:19</td>\n",
       "      <td>It008</td>\n",
       "      <td>1</td>\n",
       "      <td>Alex</td>\n",
       "      <td>out</td>\n",
       "      <td>It008</td>\n",
       "      <td>HDR-ESP</td>\n",
       "      <td>Espresso</td>\n",
       "      <td>Hot Drinks</td>\n",
       "      <td></td>\n",
       "      <td>2.15</td>\n",
       "    </tr>\n",
       "    <tr>\n",
       "      <th>1</th>\n",
       "      <td>2</td>\n",
       "      <td>ORD002</td>\n",
       "      <td>2024-02-12 07:09:38</td>\n",
       "      <td>It014</td>\n",
       "      <td>1</td>\n",
       "      <td>Jordan</td>\n",
       "      <td>in</td>\n",
       "      <td>It014</td>\n",
       "      <td>HDR-HCH-LG</td>\n",
       "      <td>Hot Chocolate</td>\n",
       "      <td>Hot Drinks</td>\n",
       "      <td>Large</td>\n",
       "      <td>4.60</td>\n",
       "    </tr>\n",
       "    <tr>\n",
       "      <th>2</th>\n",
       "      <td>3</td>\n",
       "      <td>ORD003</td>\n",
       "      <td>2024-02-12 07:14:29</td>\n",
       "      <td>It008</td>\n",
       "      <td>1</td>\n",
       "      <td>Taylor</td>\n",
       "      <td>out</td>\n",
       "      <td>It008</td>\n",
       "      <td>HDR-ESP</td>\n",
       "      <td>Espresso</td>\n",
       "      <td>Hot Drinks</td>\n",
       "      <td></td>\n",
       "      <td>2.15</td>\n",
       "    </tr>\n",
       "    <tr>\n",
       "      <th>3</th>\n",
       "      <td>4</td>\n",
       "      <td>ORD004</td>\n",
       "      <td>2024-02-12 07:18:39</td>\n",
       "      <td>It019</td>\n",
       "      <td>1</td>\n",
       "      <td>Casey</td>\n",
       "      <td>out</td>\n",
       "      <td>It019</td>\n",
       "      <td>CDR-ICT-MD</td>\n",
       "      <td>Iced Tea</td>\n",
       "      <td>Cold Drinks</td>\n",
       "      <td>Medium</td>\n",
       "      <td>3.25</td>\n",
       "    </tr>\n",
       "    <tr>\n",
       "      <th>4</th>\n",
       "      <td>5</td>\n",
       "      <td>ORD005</td>\n",
       "      <td>2024-02-12 07:23:44</td>\n",
       "      <td>It024</td>\n",
       "      <td>1</td>\n",
       "      <td>Jamie</td>\n",
       "      <td>out</td>\n",
       "      <td>It024</td>\n",
       "      <td>SNK-SSM</td>\n",
       "      <td>Sandwich Salami&amp;Mozzarella</td>\n",
       "      <td>Snacks</td>\n",
       "      <td></td>\n",
       "      <td>5.50</td>\n",
       "    </tr>\n",
       "  </tbody>\n",
       "</table>\n",
       "</div>"
      ],
      "text/plain": [
       "   row_id order_id           created_at item_id  quantity cust_name in_or_out  \\\n",
       "0       1   ORD001  2024-02-12 07:04:19   It008         1      Alex       out   \n",
       "1       2   ORD002  2024-02-12 07:09:38   It014         1    Jordan        in   \n",
       "2       3   ORD003  2024-02-12 07:14:29   It008         1    Taylor       out   \n",
       "3       4   ORD004  2024-02-12 07:18:39   It019         1     Casey       out   \n",
       "4       5   ORD005  2024-02-12 07:23:44   It024         1     Jamie       out   \n",
       "\n",
       "  item_id         sku                   item_name     item_cat item_size  \\\n",
       "0   It008     HDR-ESP                    Espresso   Hot Drinks             \n",
       "1   It014  HDR-HCH-LG               Hot Chocolate   Hot Drinks     Large   \n",
       "2   It008     HDR-ESP                    Espresso   Hot Drinks             \n",
       "3   It019  CDR-ICT-MD                    Iced Tea  Cold Drinks    Medium   \n",
       "4   It024     SNK-SSM  Sandwich Salami&Mozzarella       Snacks             \n",
       "\n",
       "   item_price  \n",
       "0        2.15  \n",
       "1        4.60  \n",
       "2        2.15  \n",
       "3        3.25  \n",
       "4        5.50  "
      ]
     },
     "execution_count": 83,
     "metadata": {},
     "output_type": "execute_result"
    }
   ],
   "source": [
    "sql = \"\"\"\n",
    "    SELECT o.* \n",
    "         , i.*\n",
    "      FROM minio.dev.orders as o\n",
    "    INNER JOIN minio.dev.items as i\n",
    "       ON o.item_id = i.item_id\n",
    "\"\"\"\n",
    "trinoProvider.get_result_pandas(sql).head()"
   ]
  },
  {
   "cell_type": "code",
   "execution_count": 87,
   "metadata": {},
   "outputs": [
    {
     "name": "stdout",
     "output_type": "stream",
     "text": [
      "\n",
      "Execute SQL: \n",
      "    SELECT o.order_id\n",
      "         , o.cust_name\n",
      "        , i.item_name\n",
      "        , i.item_size\n",
      "        , i.item_price\n",
      "      FROM minio.dev.orders as o\n",
      "     INNER JOIN minio.dev.items as i\n",
      "       ON o.item_id = i.item_id\n",
      "\n",
      "\n"
     ]
    },
    {
     "data": {
      "text/html": [
       "<div>\n",
       "<style scoped>\n",
       "    .dataframe tbody tr th:only-of-type {\n",
       "        vertical-align: middle;\n",
       "    }\n",
       "\n",
       "    .dataframe tbody tr th {\n",
       "        vertical-align: top;\n",
       "    }\n",
       "\n",
       "    .dataframe thead th {\n",
       "        text-align: right;\n",
       "    }\n",
       "</style>\n",
       "<table border=\"1\" class=\"dataframe\">\n",
       "  <thead>\n",
       "    <tr style=\"text-align: right;\">\n",
       "      <th></th>\n",
       "      <th>order_id</th>\n",
       "      <th>cust_name</th>\n",
       "      <th>item_name</th>\n",
       "      <th>item_size</th>\n",
       "      <th>item_price</th>\n",
       "    </tr>\n",
       "  </thead>\n",
       "  <tbody>\n",
       "    <tr>\n",
       "      <th>0</th>\n",
       "      <td>ORD001</td>\n",
       "      <td>Alex</td>\n",
       "      <td>Espresso</td>\n",
       "      <td></td>\n",
       "      <td>2.15</td>\n",
       "    </tr>\n",
       "    <tr>\n",
       "      <th>1</th>\n",
       "      <td>ORD002</td>\n",
       "      <td>Jordan</td>\n",
       "      <td>Hot Chocolate</td>\n",
       "      <td>Large</td>\n",
       "      <td>4.60</td>\n",
       "    </tr>\n",
       "    <tr>\n",
       "      <th>2</th>\n",
       "      <td>ORD003</td>\n",
       "      <td>Taylor</td>\n",
       "      <td>Espresso</td>\n",
       "      <td></td>\n",
       "      <td>2.15</td>\n",
       "    </tr>\n",
       "    <tr>\n",
       "      <th>3</th>\n",
       "      <td>ORD004</td>\n",
       "      <td>Casey</td>\n",
       "      <td>Iced Tea</td>\n",
       "      <td>Medium</td>\n",
       "      <td>3.25</td>\n",
       "    </tr>\n",
       "    <tr>\n",
       "      <th>4</th>\n",
       "      <td>ORD005</td>\n",
       "      <td>Jamie</td>\n",
       "      <td>Sandwich Salami&amp;Mozzarella</td>\n",
       "      <td></td>\n",
       "      <td>5.50</td>\n",
       "    </tr>\n",
       "  </tbody>\n",
       "</table>\n",
       "</div>"
      ],
      "text/plain": [
       "  order_id cust_name                   item_name item_size  item_price\n",
       "0   ORD001      Alex                    Espresso                  2.15\n",
       "1   ORD002    Jordan               Hot Chocolate     Large        4.60\n",
       "2   ORD003    Taylor                    Espresso                  2.15\n",
       "3   ORD004     Casey                    Iced Tea    Medium        3.25\n",
       "4   ORD005     Jamie  Sandwich Salami&Mozzarella                  5.50"
      ]
     },
     "execution_count": 87,
     "metadata": {},
     "output_type": "execute_result"
    }
   ],
   "source": [
    "sql = \"\"\"\n",
    "    SELECT o.order_id\n",
    "         , o.cust_name\n",
    "        , i.item_name\n",
    "        , i.item_size\n",
    "        , i.item_price\n",
    "      FROM minio.dev.orders as o\n",
    "     INNER JOIN minio.dev.items as i\n",
    "       ON o.item_id = i.item_id\n",
    "\n",
    "\"\"\"\n",
    "trinoProvider.get_result_pandas(sql).head()"
   ]
  },
  {
   "cell_type": "code",
   "execution_count": 13,
   "metadata": {},
   "outputs": [
    {
     "name": "stdout",
     "output_type": "stream",
     "text": [
      "\n",
      "Execute SQL: \n",
      "    SELECT ing.ing_id\n",
      "         , ing.ing_name\n",
      "         , ing.ing_price\n",
      "         , r.recipe_id\n",
      "      FROM minio.dev.ingredients as ing\n",
      "     INNER JOIN minio.dev.recipe as r\n",
      "        ON ing.ing_id = r.ing_id\n",
      "\n"
     ]
    }
   ],
   "source": [
    "sql = \"\"\"\n",
    "    SELECT ing.ing_id\n",
    "         , ing.ing_name\n",
    "         , ing.ing_price\n",
    "         , r.recipe_id\n",
    "      FROM minio.dev.ingredients as ing\n",
    "     INNER JOIN minio.dev.recipe as r\n",
    "        ON ing.ing_id = r.ing_id\n",
    "\"\"\"\n",
    "recipe_ingredients = trinoProvider.get_result_pandas(sql)"
   ]
  },
  {
   "cell_type": "code",
   "execution_count": 14,
   "metadata": {},
   "outputs": [
    {
     "data": {
      "text/html": [
       "<div>\n",
       "<style scoped>\n",
       "    .dataframe tbody tr th:only-of-type {\n",
       "        vertical-align: middle;\n",
       "    }\n",
       "\n",
       "    .dataframe tbody tr th {\n",
       "        vertical-align: top;\n",
       "    }\n",
       "\n",
       "    .dataframe thead th {\n",
       "        text-align: right;\n",
       "    }\n",
       "</style>\n",
       "<table border=\"1\" class=\"dataframe\">\n",
       "  <thead>\n",
       "    <tr style=\"text-align: right;\">\n",
       "      <th></th>\n",
       "      <th>ing_id</th>\n",
       "      <th>ing_name</th>\n",
       "      <th>ing_price</th>\n",
       "      <th>recipe_id</th>\n",
       "    </tr>\n",
       "  </thead>\n",
       "  <tbody>\n",
       "    <tr>\n",
       "      <th>0</th>\n",
       "      <td>ING001</td>\n",
       "      <td>Espresso beans</td>\n",
       "      <td>12.0</td>\n",
       "      <td>CDR-CMO-LG</td>\n",
       "    </tr>\n",
       "    <tr>\n",
       "      <th>1</th>\n",
       "      <td>ING001</td>\n",
       "      <td>Espresso beans</td>\n",
       "      <td>12.0</td>\n",
       "      <td>CDR-CMO-MD</td>\n",
       "    </tr>\n",
       "    <tr>\n",
       "      <th>2</th>\n",
       "      <td>ING001</td>\n",
       "      <td>Espresso beans</td>\n",
       "      <td>12.0</td>\n",
       "      <td>CDR-CCF-LG</td>\n",
       "    </tr>\n",
       "    <tr>\n",
       "      <th>3</th>\n",
       "      <td>ING001</td>\n",
       "      <td>Espresso beans</td>\n",
       "      <td>12.0</td>\n",
       "      <td>CDR-CCF-MD</td>\n",
       "    </tr>\n",
       "    <tr>\n",
       "      <th>4</th>\n",
       "      <td>ING001</td>\n",
       "      <td>Espresso beans</td>\n",
       "      <td>12.0</td>\n",
       "      <td>HDR-WMO-LG</td>\n",
       "    </tr>\n",
       "  </tbody>\n",
       "</table>\n",
       "</div>"
      ],
      "text/plain": [
       "   ing_id        ing_name  ing_price   recipe_id\n",
       "0  ING001  Espresso beans       12.0  CDR-CMO-LG\n",
       "1  ING001  Espresso beans       12.0  CDR-CMO-MD\n",
       "2  ING001  Espresso beans       12.0  CDR-CCF-LG\n",
       "3  ING001  Espresso beans       12.0  CDR-CCF-MD\n",
       "4  ING001  Espresso beans       12.0  HDR-WMO-LG"
      ]
     },
     "execution_count": 14,
     "metadata": {},
     "output_type": "execute_result"
    }
   ],
   "source": [
    "recipe_ingredients.head()"
   ]
  },
  {
   "cell_type": "code",
   "execution_count": 36,
   "metadata": {},
   "outputs": [
    {
     "name": "stdout",
     "output_type": "stream",
     "text": [
      "{'data': b'ing_id,ing_name,ing_price,recipe_id\\nING001,Espresso beans,12.0,CDR-CMO-LG\\nING001,Espresso beans,12.0,CDR-CMO-MD\\nING001,Espresso beans,12.0,CDR-CCF-LG\\nING001,Espresso beans,12.0,CDR-CCF-MD\\nING001,Espresso beans,12.0,HDR-WMO-LG\\nING001,Espresso beans,12.0,HDR-WMO-MD\\nING001,Espresso beans,12.0,HDR-MOC-LG\\nING001,Espresso beans,12.0,HDR-MOC-MD\\nING001,Espresso beans,12.0,HDR-ESP\\nING001,Espresso beans,12.0,HDR-CRM-LG\\nING001,Espresso beans,12.0,HDR-CRM-MD\\nING001,Espresso beans,12.0,HDR-FLT\\nING001,Espresso beans,12.0,HDR-LAT-LG\\nING001,Espresso beans,12.0,HDR-LAT-MD\\nING001,Espresso beans,12.0,HDR-CAP-LG\\nING001,Espresso beans,12.0,HDR-CAP-MD\\nING002,Whole Milk,1.2,CDR-CMO-LG\\nING002,Whole Milk,1.2,CDR-CMO-MD\\nING002,Whole Milk,1.2,CDR-CCF-LG\\nING002,Whole Milk,1.2,CDR-CCF-MD\\nING002,Whole Milk,1.2,HDR-HCH-LG\\nING002,Whole Milk,1.2,HDR-HCH-MD\\nING002,Whole Milk,1.2,HDR-WMO-LG\\nING002,Whole Milk,1.2,HDR-WMO-MD\\nING002,Whole Milk,1.2,HDR-MOC-LG\\nING002,Whole Milk,1.2,HDR-MOC-MD\\nING002,Whole Milk,1.2,HDR-CRM-LG\\nING002,Whole Milk,1.2,HDR-CRM-MD\\nING002,Whole Milk,1.2,HDR-FLT\\nING002,Whole Milk,1.2,HDR-LAT-LG\\nING002,Whole Milk,1.2,HDR-LAT-MD\\nING002,Whole Milk,1.2,HDR-CAP-LG\\nING002,Whole Milk,1.2,HDR-CAP-MD\\nING003,Cheddar,7.45,SNK-SHC\\nING004,Mozzarella,5.0,SNK-SSM\\nING005,Whipped cream,1.35,HDR-HCH-LG\\nING005,Whipped cream,1.35,HDR-HCH-MD\\nING007,Barista chocolate syrup,8.49,CDR-CMO-LG\\nING007,Barista chocolate syrup,8.49,CDR-CMO-MD\\nING007,Barista chocolate syrup,8.49,HDR-MOC-LG\\nING007,Barista chocolate syrup,8.49,HDR-MOC-MD\\nING008,Barista white chocolate syrup,8.49,HDR-WMO-LG\\nING008,Barista white chocolate syrup,8.49,HDR-WMO-MD\\nING009,Barista caramel sauce,8.49,HDR-CRM-LG\\nING009,Barista caramel sauce,8.49,HDR-CRM-MD\\nING010,Sugar,1.5,CDR-LMN-LG\\nING010,Sugar,1.5,CDR-LMN-MD\\nING010,Sugar,1.5,CDR-ICT-LG\\nING010,Sugar,1.5,CDR-ICT-MD\\nING011,Panini Bread,1.35,SNK-SSM\\nING011,Panini Bread,1.35,SNK-SHC\\nING012,Cocoa powder,22.0,HDR-HCH-LG\\nING012,Cocoa powder,22.0,HDR-HCH-MD\\nING013,Chocolate,10.5,HDR-HCH-LG\\nING013,Chocolate,10.5,HDR-HCH-MD\\nING014,Lemons,1.5,CDR-LMN-LG\\nING014,Lemons,1.5,CDR-LMN-MD\\nING015,Ham,27.5,SNK-SHC\\nING016,Salami,15.49,SNK-SSM\\nING016,Salami,15.49,CDR-ICT-LG\\nING017,Black Tea,16.0,CDR-ICT-MD\\n', 'content_type': 'application/csv', 'buffer': <_io.BytesIO object at 0x7fda846993f0>}\n",
      "\n",
      "Foram inseridos 61 linha no arquivos 'dev/bronze/recipe_ingredients/recipe_ingredients', no bucket apresentacao\n"
     ]
    }
   ],
   "source": [
    "## Inserindo modificacao\n",
    "s3.put_bucket(bucket_name=BUCKET_NAME, key='dev/bronze/recipe_ingredients/recipe_ingredients', data=recipe_ingredients, file_format='csv')"
   ]
  },
  {
   "cell_type": "code",
   "execution_count": 34,
   "metadata": {},
   "outputs": [
    {
     "name": "stdout",
     "output_type": "stream",
     "text": [
      "NAME:  ing_id  TYPE:  object\n",
      "NAME:  ing_name  TYPE:  object\n",
      "NAME:  ing_price  TYPE:  float64\n",
      "NAME:  recipe_id  TYPE:  object\n",
      "\n",
      "Execute SQL: SHOW SCHEMAS FROM minio LIKE 'dev'\n",
      "Schema dev exist\n",
      "\n",
      "Execute SQL: SHOW TABLES FROM minio.dev LIKE 'recipe_ingredients'\n",
      "Creating table minio.dev.recipe_ingredients ...\n",
      "\n",
      "Execute SQL: CREATE TABLE IF NOT EXISTS minio.dev.recipe_ingredients (\n",
      "                        ing_id  varchar, \n",
      "ing_name  varchar, \n",
      "ing_price  double, \n",
      "recipe_id  varchar\n",
      "                    )\n",
      "                    WITH (\n",
      "                        format = 'TEXTFILE',\n",
      "                        skip_header_line_count = 1,\n",
      "                        textfile_field_separator = ',',\n",
      "                        external_location = 's3a://apresentacao//dev/bronze/recipe_ingredients.csv'\n",
      "                    )\n",
      "                    \n",
      "Table minio.dev.recipe_ingredients criada, file format csv \n"
     ]
    },
    {
     "data": {
      "text/html": [
       "<div>\n",
       "<style scoped>\n",
       "    .dataframe tbody tr th:only-of-type {\n",
       "        vertical-align: middle;\n",
       "    }\n",
       "\n",
       "    .dataframe tbody tr th {\n",
       "        vertical-align: top;\n",
       "    }\n",
       "\n",
       "    .dataframe thead th {\n",
       "        text-align: right;\n",
       "    }\n",
       "</style>\n",
       "<table border=\"1\" class=\"dataframe\">\n",
       "  <thead>\n",
       "    <tr style=\"text-align: right;\">\n",
       "      <th></th>\n",
       "    </tr>\n",
       "  </thead>\n",
       "  <tbody>\n",
       "  </tbody>\n",
       "</table>\n",
       "</div>"
      ],
      "text/plain": [
       "Empty DataFrame\n",
       "Columns: []\n",
       "Index: []"
      ]
     },
     "execution_count": 34,
     "metadata": {},
     "output_type": "execute_result"
    }
   ],
   "source": [
    "## Criando tabela da transfomacao no trino\n",
    "key_s3=f\"{SCHEMA}/bronze/recipe_ingrediente\"\n",
    "trinoProvider.create_table_and_metadata(df=recipe_ingredients, bucket_name=BUCKET_NAME, catalog=CATALOG, schema=SCHEMA,  key_s3=key_s3, table='recipe_ingredients', separator=',', format_file='csv')"
   ]
  },
  {
   "cell_type": "code",
   "execution_count": 32,
   "metadata": {},
   "outputs": [
    {
     "name": "stdout",
     "output_type": "stream",
     "text": [
      "\n",
      "Execute SQL: DROP TABLE minio.dev.recipe_ingredients\n"
     ]
    },
    {
     "data": {
      "text/plain": [
       "('TrinoProvider.get_result_pandas -',\n",
       " TrinoUserError(type=USER_ERROR, name=TABLE_NOT_FOUND, message=\"line 1:1: Table 'minio.dev.recipe_ingredients' does not exist\", query_id=20240429_224052_00143_v3tyh))"
      ]
     },
     "execution_count": 32,
     "metadata": {},
     "output_type": "execute_result"
    }
   ],
   "source": [
    "trinoProvider.get_result_pandas(\"DROP TABLE minio.dev.recipe_ingredients\")"
   ]
  },
  {
   "cell_type": "code",
   "execution_count": 35,
   "metadata": {},
   "outputs": [
    {
     "name": "stdout",
     "output_type": "stream",
     "text": [
      "\n",
      "Execute SQL: SELECT * FROM minio.dev.recipe_ingredients\n",
      "Result empty\n"
     ]
    },
    {
     "data": {
      "text/html": [
       "<div>\n",
       "<style scoped>\n",
       "    .dataframe tbody tr th:only-of-type {\n",
       "        vertical-align: middle;\n",
       "    }\n",
       "\n",
       "    .dataframe tbody tr th {\n",
       "        vertical-align: top;\n",
       "    }\n",
       "\n",
       "    .dataframe thead th {\n",
       "        text-align: right;\n",
       "    }\n",
       "</style>\n",
       "<table border=\"1\" class=\"dataframe\">\n",
       "  <thead>\n",
       "    <tr style=\"text-align: right;\">\n",
       "      <th></th>\n",
       "      <th>ing_id</th>\n",
       "      <th>ing_name</th>\n",
       "      <th>ing_price</th>\n",
       "      <th>recipe_id</th>\n",
       "    </tr>\n",
       "  </thead>\n",
       "  <tbody>\n",
       "  </tbody>\n",
       "</table>\n",
       "</div>"
      ],
      "text/plain": [
       "Empty DataFrame\n",
       "Columns: [ing_id, ing_name, ing_price, recipe_id]\n",
       "Index: []"
      ]
     },
     "execution_count": 35,
     "metadata": {},
     "output_type": "execute_result"
    }
   ],
   "source": [
    "trinoProvider.get_result_pandas(\"SELECT * FROM minio.dev.recipe_ingredients\")"
   ]
  },
  {
   "cell_type": "code",
   "execution_count": 100,
   "metadata": {},
   "outputs": [
    {
     "data": {
      "text/html": [
       "<div>\n",
       "<style scoped>\n",
       "    .dataframe tbody tr th:only-of-type {\n",
       "        vertical-align: middle;\n",
       "    }\n",
       "\n",
       "    .dataframe tbody tr th {\n",
       "        vertical-align: top;\n",
       "    }\n",
       "\n",
       "    .dataframe thead th {\n",
       "        text-align: right;\n",
       "    }\n",
       "</style>\n",
       "<table border=\"1\" class=\"dataframe\">\n",
       "  <thead>\n",
       "    <tr style=\"text-align: right;\">\n",
       "      <th></th>\n",
       "      <th>item_id</th>\n",
       "      <th>sku</th>\n",
       "      <th>item_name</th>\n",
       "      <th>item_cat</th>\n",
       "      <th>item_size</th>\n",
       "      <th>item_price</th>\n",
       "    </tr>\n",
       "  </thead>\n",
       "  <tbody>\n",
       "    <tr>\n",
       "      <th>0</th>\n",
       "      <td>It001</td>\n",
       "      <td>HDR-CAP-MD</td>\n",
       "      <td>Cappuccino</td>\n",
       "      <td>Hot Drinks</td>\n",
       "      <td>Medium</td>\n",
       "      <td>3.45</td>\n",
       "    </tr>\n",
       "    <tr>\n",
       "      <th>1</th>\n",
       "      <td>It002</td>\n",
       "      <td>HDR-CAP-LG</td>\n",
       "      <td>Cappuccino</td>\n",
       "      <td>Hot Drinks</td>\n",
       "      <td>Large</td>\n",
       "      <td>3.75</td>\n",
       "    </tr>\n",
       "    <tr>\n",
       "      <th>2</th>\n",
       "      <td>It003</td>\n",
       "      <td>HDR-LAT-MD</td>\n",
       "      <td>Latte</td>\n",
       "      <td>Hot Drinks</td>\n",
       "      <td>Medium</td>\n",
       "      <td>3.45</td>\n",
       "    </tr>\n",
       "    <tr>\n",
       "      <th>3</th>\n",
       "      <td>It004</td>\n",
       "      <td>HDR-LAT-LG</td>\n",
       "      <td>Latte</td>\n",
       "      <td>Hot Drinks</td>\n",
       "      <td>Large</td>\n",
       "      <td>3.75</td>\n",
       "    </tr>\n",
       "    <tr>\n",
       "      <th>4</th>\n",
       "      <td>It005</td>\n",
       "      <td>HDR-FLT</td>\n",
       "      <td>Flat White</td>\n",
       "      <td>Hot Drinks</td>\n",
       "      <td>NaN</td>\n",
       "      <td>3.15</td>\n",
       "    </tr>\n",
       "  </tbody>\n",
       "</table>\n",
       "</div>"
      ],
      "text/plain": [
       "  item_id         sku   item_name    item_cat item_size  item_price\n",
       "0   It001  HDR-CAP-MD  Cappuccino  Hot Drinks    Medium        3.45\n",
       "1   It002  HDR-CAP-LG  Cappuccino  Hot Drinks     Large        3.75\n",
       "2   It003  HDR-LAT-MD       Latte  Hot Drinks    Medium        3.45\n",
       "3   It004  HDR-LAT-LG       Latte  Hot Drinks     Large        3.75\n",
       "4   It005     HDR-FLT  Flat White  Hot Drinks       NaN        3.15"
      ]
     },
     "execution_count": 100,
     "metadata": {},
     "output_type": "execute_result"
    }
   ],
   "source": [
    "items.head()"
   ]
  },
  {
   "cell_type": "code",
   "execution_count": null,
   "metadata": {},
   "outputs": [],
   "source": [
    "sql = \"\"\"\n",
    "    SELECT \n",
    "      FROM minio.dev.ingredients as ing\n",
    "     INNER JOIN minio.dev.recipe as r\n",
    "        ON ing.ing_id = r.ing_id\n",
    "\"\"\"\n",
    "ing_item001 = trinoProvider.get_result_pandas(sql)"
   ]
  }
 ],
 "metadata": {
  "kernelspec": {
   "display_name": "venv",
   "language": "python",
   "name": "python3"
  },
  "language_info": {
   "codemirror_mode": {
    "name": "ipython",
    "version": 3
   },
   "file_extension": ".py",
   "mimetype": "text/x-python",
   "name": "python",
   "nbconvert_exporter": "python",
   "pygments_lexer": "ipython3",
   "version": "3.10.12"
  }
 },
 "nbformat": 4,
 "nbformat_minor": 2
}
